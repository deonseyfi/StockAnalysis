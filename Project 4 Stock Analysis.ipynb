{
 "cells": [
  {
   "cell_type": "code",
   "execution_count": 23,
   "id": "a8808ec2",
   "metadata": {},
   "outputs": [
    {
     "name": "stdout",
     "output_type": "stream",
     "text": [
      "Requirement already satisfied: yfinance in c:\\users\\deon\\anaconda3\\lib\\site-packages (0.1.66)\n",
      "Requirement already satisfied: multitasking>=0.0.7 in c:\\users\\deon\\anaconda3\\lib\\site-packages (from yfinance) (0.0.10)\n",
      "Requirement already satisfied: requests>=2.20 in c:\\users\\deon\\anaconda3\\lib\\site-packages (from yfinance) (2.25.1)\n",
      "Requirement already satisfied: lxml>=4.5.1 in c:\\users\\deon\\anaconda3\\lib\\site-packages (from yfinance) (4.6.3)\n",
      "Requirement already satisfied: numpy>=1.15 in c:\\users\\deon\\anaconda3\\lib\\site-packages (from yfinance) (1.20.1)\n",
      "Requirement already satisfied: pandas>=0.24 in c:\\users\\deon\\anaconda3\\lib\\site-packages (from yfinance) (1.2.4)\n",
      "Requirement already satisfied: pytz>=2017.3 in c:\\users\\deon\\anaconda3\\lib\\site-packages (from pandas>=0.24->yfinance) (2021.1)\n",
      "Requirement already satisfied: python-dateutil>=2.7.3 in c:\\users\\deon\\anaconda3\\lib\\site-packages (from pandas>=0.24->yfinance) (2.8.1)\n",
      "Requirement already satisfied: six>=1.5 in c:\\users\\deon\\anaconda3\\lib\\site-packages (from python-dateutil>=2.7.3->pandas>=0.24->yfinance) (1.15.0)\n",
      "Requirement already satisfied: certifi>=2017.4.17 in c:\\users\\deon\\anaconda3\\lib\\site-packages (from requests>=2.20->yfinance) (2020.12.5)\n",
      "Requirement already satisfied: urllib3<1.27,>=1.21.1 in c:\\users\\deon\\anaconda3\\lib\\site-packages (from requests>=2.20->yfinance) (1.26.4)\n",
      "Requirement already satisfied: idna<3,>=2.5 in c:\\users\\deon\\anaconda3\\lib\\site-packages (from requests>=2.20->yfinance) (2.10)\n",
      "Requirement already satisfied: chardet<5,>=3.0.2 in c:\\users\\deon\\anaconda3\\lib\\site-packages (from requests>=2.20->yfinance) (4.0.0)\n",
      "Requirement already satisfied: matplotlib in c:\\users\\deon\\anaconda3\\lib\\site-packages (3.3.4)\n",
      "Requirement already satisfied: numpy>=1.15 in c:\\users\\deon\\anaconda3\\lib\\site-packages (from matplotlib) (1.20.1)\n",
      "Requirement already satisfied: kiwisolver>=1.0.1 in c:\\users\\deon\\anaconda3\\lib\\site-packages (from matplotlib) (1.3.1)\n",
      "Requirement already satisfied: pyparsing!=2.0.4,!=2.1.2,!=2.1.6,>=2.0.3 in c:\\users\\deon\\anaconda3\\lib\\site-packages (from matplotlib) (2.4.7)\n",
      "Requirement already satisfied: python-dateutil>=2.1 in c:\\users\\deon\\anaconda3\\lib\\site-packages (from matplotlib) (2.8.1)\n",
      "Requirement already satisfied: pillow>=6.2.0 in c:\\users\\deon\\anaconda3\\lib\\site-packages (from matplotlib) (8.2.0)\n",
      "Requirement already satisfied: cycler>=0.10 in c:\\users\\deon\\anaconda3\\lib\\site-packages (from matplotlib) (0.10.0)\n",
      "Requirement already satisfied: six in c:\\users\\deon\\anaconda3\\lib\\site-packages (from cycler>=0.10->matplotlib) (1.15.0)\n",
      "Collecting plotly\n",
      "  Downloading plotly-5.4.0-py2.py3-none-any.whl (25.3 MB)\n",
      "Requirement already satisfied: six in c:\\users\\deon\\anaconda3\\lib\\site-packages (from plotly) (1.15.0)\n",
      "Collecting tenacity>=6.2.0\n",
      "  Downloading tenacity-8.0.1-py3-none-any.whl (24 kB)\n",
      "Installing collected packages: tenacity, plotly\n",
      "Successfully installed plotly-5.4.0 tenacity-8.0.1\n"
     ]
    }
   ],
   "source": [
    "!pip install yfinance\n",
    "!pip install matplotlib\n",
    "!pip install plotly"
   ]
  },
  {
   "cell_type": "code",
   "execution_count": 55,
   "id": "31571941",
   "metadata": {},
   "outputs": [],
   "source": [
    "import yfinance as yf\n",
    "import matplotlib.pyplot as pt\n",
    "import pandas as pd\n",
    "import plotly.graph_objects as go"
   ]
  },
  {
   "cell_type": "code",
   "execution_count": 62,
   "id": "d6d92dff",
   "metadata": {},
   "outputs": [
    {
     "name": "stdout",
     "output_type": "stream",
     "text": [
      "[*********************100%***********************]  3 of 3 completed\n"
     ]
    },
    {
     "name": "stderr",
     "output_type": "stream",
     "text": [
      "C:\\Users\\Deon\\anaconda3\\lib\\site-packages\\pandas\\core\\reshape\\merge.py:648: UserWarning:\n",
      "\n",
      "merging between different levels can give an unintended result (1 levels on the left,2 on the right)\n",
      "\n"
     ]
    }
   ],
   "source": [
    "df = pd.DataFrame()\n",
    "\n",
    "df = pd.DataFrame(yf.download(  # or pdr.get_data_yahoo(...\n",
    "        # tickers list or string as well\n",
    "        tickers = \"SPY TSLA AMZN\",\n",
    "\n",
    "        # use \"period\" instead of start/end\n",
    "        # valid periods: 1d,5d,1mo,3mo,6mo,1y,2y,5y,10y,ytd,max\n",
    "        # (optional, default is '1mo')\n",
    "        period = \"1d\",\n",
    "\n",
    "        # fetch data by interval (including intraday if period < 60 days)\n",
    "        # valid intervals: 1m,2m,5m,15m,30m,60m,90m,1h,1d,5d,1wk,1mo,3mo\n",
    "        # (optional, default is '1d')\n",
    "        interval = \"5m\",\n",
    "\n",
    "        rounding = True,\n",
    "        group_by = \"ticker\"\n",
    "    )),right_index = True,left_index = True, how = 'outer')"
   ]
  },
  {
   "cell_type": "code",
   "execution_count": 65,
   "id": "444e64e7",
   "metadata": {
    "scrolled": false
   },
   "outputs": [
    {
     "data": {
      "text/plain": [
       "Datetime\n",
       "2021-11-19 09:30:00-05:00    3712.69\n",
       "2021-11-19 09:35:00-05:00    3738.50\n",
       "2021-11-19 09:40:00-05:00    3736.00\n",
       "2021-11-19 09:45:00-05:00    3744.75\n",
       "2021-11-19 09:50:00-05:00    3739.00\n",
       "                              ...   \n",
       "2021-11-19 15:40:00-05:00    3682.89\n",
       "2021-11-19 15:45:00-05:00    3687.31\n",
       "2021-11-19 15:50:00-05:00    3687.13\n",
       "2021-11-19 15:55:00-05:00    3682.44\n",
       "2021-11-19 16:00:00-05:00    3676.57\n",
       "Name: (AMZN, Open), Length: 79, dtype: float64"
      ]
     },
     "execution_count": 65,
     "metadata": {},
     "output_type": "execute_result"
    }
   ],
   "source": [
    "df.head()\n",
    "df.keys()\n",
    "df[('AMZN','Open')]"
   ]
  },
  {
   "cell_type": "code",
   "execution_count": 69,
   "id": "b150711d",
   "metadata": {},
   "outputs": [
    {
     "data": {
      "application/vnd.plotly.v1+json": {
       "config": {
        "plotlyServerURL": "https://plot.ly"
       },
       "data": [
        {
         "close": [
          3729.37,
          3738.89,
          3748.52,
          3741.38,
          3746.66,
          3754.91,
          3728.95,
          3732.23,
          3731.5,
          3733.81,
          3741.28,
          3733.67,
          3737.15,
          3742.81,
          3740.71,
          3740.06,
          3735.98,
          3741.97,
          3744,
          3747.42,
          3749.44,
          3756.54,
          3754.83,
          3752.2,
          3748.95,
          3754.12,
          3753.18,
          3757.02,
          3755.15,
          3754.48,
          3752.07,
          3751.92,
          3744.99,
          3742.7,
          3744.53,
          3745.5,
          3742.8,
          3739.59,
          3731.24,
          3718.89,
          3725.93,
          3723.21,
          3725.67,
          3724.36,
          3718.3,
          3703.11,
          3709.68,
          3687.49,
          3696.99,
          3695.23,
          3704.39,
          3705.9,
          3713,
          3713.31,
          3705.12,
          3708.66,
          3714.56,
          3716.94,
          3718.92,
          3713.36,
          3709.67,
          3704.58,
          3708.1,
          3699.83,
          3704.94,
          3701,
          3698.05,
          3699.18,
          3695.69,
          3695.64,
          3693.82,
          3686.02,
          3680.97,
          3683.35,
          3686.98,
          3687.19,
          3683,
          3676.82,
          3676.57
         ],
         "high": [
          3738,
          3745.08,
          3748.94,
          3746.5,
          3747.2,
          3756.9,
          3756.19,
          3735,
          3732.97,
          3734.27,
          3748.85,
          3741.54,
          3740.67,
          3744.28,
          3745,
          3744.64,
          3741.67,
          3744.23,
          3745,
          3750,
          3755.87,
          3759.67,
          3757.53,
          3754.44,
          3755.17,
          3755.7,
          3757,
          3758,
          3762.15,
          3759,
          3756.15,
          3754.19,
          3750.55,
          3745,
          3747.47,
          3746.85,
          3747.79,
          3746.42,
          3738.78,
          3731.27,
          3728.73,
          3729.53,
          3727.96,
          3726,
          3724.36,
          3719.49,
          3711.45,
          3708.81,
          3700.07,
          3697.96,
          3704.86,
          3708.08,
          3714.34,
          3714.9,
          3716.22,
          3712.16,
          3714.56,
          3720.26,
          3720.52,
          3719.53,
          3718.32,
          3709.5,
          3710.25,
          3708.36,
          3706.46,
          3706,
          3703.45,
          3699.66,
          3699.88,
          3697,
          3697.65,
          3694.35,
          3688.16,
          3683.68,
          3689.66,
          3689,
          3690.16,
          3682.68,
          3676.57
         ],
         "low": [
          3705.18,
          3735.26,
          3735,
          3736,
          3738.69,
          3743.63,
          3728.13,
          3718,
          3721.86,
          3729.42,
          3735.14,
          3725.51,
          3726.56,
          3733.63,
          3739,
          3736.85,
          3731.31,
          3735.16,
          3740.48,
          3743.14,
          3746,
          3748.14,
          3753.08,
          3746.35,
          3747.79,
          3749.19,
          3751.5,
          3751.45,
          3754.72,
          3754.14,
          3750.61,
          3750.2,
          3741.25,
          3737.66,
          3740,
          3739.48,
          3742.69,
          3739.59,
          3726.05,
          3715.8,
          3718.52,
          3722.53,
          3721.55,
          3723,
          3717.5,
          3702.88,
          3701,
          3682.68,
          3686.7,
          3692.31,
          3692.91,
          3703.04,
          3705.81,
          3709.29,
          3704.63,
          3704.53,
          3707.01,
          3711.42,
          3715.22,
          3713.36,
          3708.4,
          3702.61,
          3703.79,
          3699,
          3698.44,
          3700.05,
          3697.42,
          3696.9,
          3694.34,
          3691.23,
          3692.28,
          3686,
          3677.4,
          3677,
          3681,
          3682.45,
          3681.03,
          3675.72,
          3676.57
         ],
         "open": [
          3712.69,
          3738.5,
          3736,
          3744.75,
          3739,
          3743.63,
          3756.19,
          3728.68,
          3732.78,
          3730.8,
          3735.14,
          3740.51,
          3733.2,
          3736.17,
          3742.22,
          3741,
          3740.25,
          3736.06,
          3742.07,
          3744.69,
          3747.02,
          3749.44,
          3756.87,
          3754.02,
          3754.12,
          3749.53,
          3754.51,
          3753.19,
          3757.23,
          3755.71,
          3753.39,
          3751.93,
          3750.51,
          3743.28,
          3741.82,
          3745.26,
          3745.02,
          3743.18,
          3738.78,
          3731.18,
          3718.52,
          3726,
          3724.02,
          3724.76,
          3724.36,
          3718.99,
          3703.6,
          3708.52,
          3686.7,
          3697.96,
          3695.29,
          3704.99,
          3705.86,
          3713.22,
          3714.41,
          3705.51,
          3707.01,
          3714.52,
          3717,
          3719.22,
          3713.82,
          3709.39,
          3703.93,
          3707.13,
          3700.05,
          3704.52,
          3703.15,
          3698.49,
          3698.11,
          3694.23,
          3695.01,
          3694.03,
          3685.96,
          3680.83,
          3682.89,
          3687.31,
          3687.13,
          3682.44,
          3676.57
         ],
         "type": "candlestick",
         "x": [
          "2021-11-19T09:30:00-05:00",
          "2021-11-19T09:35:00-05:00",
          "2021-11-19T09:40:00-05:00",
          "2021-11-19T09:45:00-05:00",
          "2021-11-19T09:50:00-05:00",
          "2021-11-19T09:55:00-05:00",
          "2021-11-19T10:00:00-05:00",
          "2021-11-19T10:05:00-05:00",
          "2021-11-19T10:10:00-05:00",
          "2021-11-19T10:15:00-05:00",
          "2021-11-19T10:20:00-05:00",
          "2021-11-19T10:25:00-05:00",
          "2021-11-19T10:30:00-05:00",
          "2021-11-19T10:35:00-05:00",
          "2021-11-19T10:40:00-05:00",
          "2021-11-19T10:45:00-05:00",
          "2021-11-19T10:50:00-05:00",
          "2021-11-19T10:55:00-05:00",
          "2021-11-19T11:00:00-05:00",
          "2021-11-19T11:05:00-05:00",
          "2021-11-19T11:10:00-05:00",
          "2021-11-19T11:15:00-05:00",
          "2021-11-19T11:20:00-05:00",
          "2021-11-19T11:25:00-05:00",
          "2021-11-19T11:30:00-05:00",
          "2021-11-19T11:35:00-05:00",
          "2021-11-19T11:40:00-05:00",
          "2021-11-19T11:45:00-05:00",
          "2021-11-19T11:50:00-05:00",
          "2021-11-19T11:55:00-05:00",
          "2021-11-19T12:00:00-05:00",
          "2021-11-19T12:05:00-05:00",
          "2021-11-19T12:10:00-05:00",
          "2021-11-19T12:15:00-05:00",
          "2021-11-19T12:20:00-05:00",
          "2021-11-19T12:25:00-05:00",
          "2021-11-19T12:30:00-05:00",
          "2021-11-19T12:35:00-05:00",
          "2021-11-19T12:40:00-05:00",
          "2021-11-19T12:45:00-05:00",
          "2021-11-19T12:50:00-05:00",
          "2021-11-19T12:55:00-05:00",
          "2021-11-19T13:00:00-05:00",
          "2021-11-19T13:05:00-05:00",
          "2021-11-19T13:10:00-05:00",
          "2021-11-19T13:15:00-05:00",
          "2021-11-19T13:20:00-05:00",
          "2021-11-19T13:25:00-05:00",
          "2021-11-19T13:30:00-05:00",
          "2021-11-19T13:35:00-05:00",
          "2021-11-19T13:40:00-05:00",
          "2021-11-19T13:45:00-05:00",
          "2021-11-19T13:50:00-05:00",
          "2021-11-19T13:55:00-05:00",
          "2021-11-19T14:00:00-05:00",
          "2021-11-19T14:05:00-05:00",
          "2021-11-19T14:10:00-05:00",
          "2021-11-19T14:15:00-05:00",
          "2021-11-19T14:20:00-05:00",
          "2021-11-19T14:25:00-05:00",
          "2021-11-19T14:30:00-05:00",
          "2021-11-19T14:35:00-05:00",
          "2021-11-19T14:40:00-05:00",
          "2021-11-19T14:45:00-05:00",
          "2021-11-19T14:50:00-05:00",
          "2021-11-19T14:55:00-05:00",
          "2021-11-19T15:00:00-05:00",
          "2021-11-19T15:05:00-05:00",
          "2021-11-19T15:10:00-05:00",
          "2021-11-19T15:15:00-05:00",
          "2021-11-19T15:20:00-05:00",
          "2021-11-19T15:25:00-05:00",
          "2021-11-19T15:30:00-05:00",
          "2021-11-19T15:35:00-05:00",
          "2021-11-19T15:40:00-05:00",
          "2021-11-19T15:45:00-05:00",
          "2021-11-19T15:50:00-05:00",
          "2021-11-19T15:55:00-05:00",
          "2021-11-19T16:00:00-05:00"
         ]
        }
       ],
       "layout": {
        "template": {
         "data": {
          "bar": [
           {
            "error_x": {
             "color": "#2a3f5f"
            },
            "error_y": {
             "color": "#2a3f5f"
            },
            "marker": {
             "line": {
              "color": "#E5ECF6",
              "width": 0.5
             },
             "pattern": {
              "fillmode": "overlay",
              "size": 10,
              "solidity": 0.2
             }
            },
            "type": "bar"
           }
          ],
          "barpolar": [
           {
            "marker": {
             "line": {
              "color": "#E5ECF6",
              "width": 0.5
             },
             "pattern": {
              "fillmode": "overlay",
              "size": 10,
              "solidity": 0.2
             }
            },
            "type": "barpolar"
           }
          ],
          "carpet": [
           {
            "aaxis": {
             "endlinecolor": "#2a3f5f",
             "gridcolor": "white",
             "linecolor": "white",
             "minorgridcolor": "white",
             "startlinecolor": "#2a3f5f"
            },
            "baxis": {
             "endlinecolor": "#2a3f5f",
             "gridcolor": "white",
             "linecolor": "white",
             "minorgridcolor": "white",
             "startlinecolor": "#2a3f5f"
            },
            "type": "carpet"
           }
          ],
          "choropleth": [
           {
            "colorbar": {
             "outlinewidth": 0,
             "ticks": ""
            },
            "type": "choropleth"
           }
          ],
          "contour": [
           {
            "colorbar": {
             "outlinewidth": 0,
             "ticks": ""
            },
            "colorscale": [
             [
              0,
              "#0d0887"
             ],
             [
              0.1111111111111111,
              "#46039f"
             ],
             [
              0.2222222222222222,
              "#7201a8"
             ],
             [
              0.3333333333333333,
              "#9c179e"
             ],
             [
              0.4444444444444444,
              "#bd3786"
             ],
             [
              0.5555555555555556,
              "#d8576b"
             ],
             [
              0.6666666666666666,
              "#ed7953"
             ],
             [
              0.7777777777777778,
              "#fb9f3a"
             ],
             [
              0.8888888888888888,
              "#fdca26"
             ],
             [
              1,
              "#f0f921"
             ]
            ],
            "type": "contour"
           }
          ],
          "contourcarpet": [
           {
            "colorbar": {
             "outlinewidth": 0,
             "ticks": ""
            },
            "type": "contourcarpet"
           }
          ],
          "heatmap": [
           {
            "colorbar": {
             "outlinewidth": 0,
             "ticks": ""
            },
            "colorscale": [
             [
              0,
              "#0d0887"
             ],
             [
              0.1111111111111111,
              "#46039f"
             ],
             [
              0.2222222222222222,
              "#7201a8"
             ],
             [
              0.3333333333333333,
              "#9c179e"
             ],
             [
              0.4444444444444444,
              "#bd3786"
             ],
             [
              0.5555555555555556,
              "#d8576b"
             ],
             [
              0.6666666666666666,
              "#ed7953"
             ],
             [
              0.7777777777777778,
              "#fb9f3a"
             ],
             [
              0.8888888888888888,
              "#fdca26"
             ],
             [
              1,
              "#f0f921"
             ]
            ],
            "type": "heatmap"
           }
          ],
          "heatmapgl": [
           {
            "colorbar": {
             "outlinewidth": 0,
             "ticks": ""
            },
            "colorscale": [
             [
              0,
              "#0d0887"
             ],
             [
              0.1111111111111111,
              "#46039f"
             ],
             [
              0.2222222222222222,
              "#7201a8"
             ],
             [
              0.3333333333333333,
              "#9c179e"
             ],
             [
              0.4444444444444444,
              "#bd3786"
             ],
             [
              0.5555555555555556,
              "#d8576b"
             ],
             [
              0.6666666666666666,
              "#ed7953"
             ],
             [
              0.7777777777777778,
              "#fb9f3a"
             ],
             [
              0.8888888888888888,
              "#fdca26"
             ],
             [
              1,
              "#f0f921"
             ]
            ],
            "type": "heatmapgl"
           }
          ],
          "histogram": [
           {
            "marker": {
             "pattern": {
              "fillmode": "overlay",
              "size": 10,
              "solidity": 0.2
             }
            },
            "type": "histogram"
           }
          ],
          "histogram2d": [
           {
            "colorbar": {
             "outlinewidth": 0,
             "ticks": ""
            },
            "colorscale": [
             [
              0,
              "#0d0887"
             ],
             [
              0.1111111111111111,
              "#46039f"
             ],
             [
              0.2222222222222222,
              "#7201a8"
             ],
             [
              0.3333333333333333,
              "#9c179e"
             ],
             [
              0.4444444444444444,
              "#bd3786"
             ],
             [
              0.5555555555555556,
              "#d8576b"
             ],
             [
              0.6666666666666666,
              "#ed7953"
             ],
             [
              0.7777777777777778,
              "#fb9f3a"
             ],
             [
              0.8888888888888888,
              "#fdca26"
             ],
             [
              1,
              "#f0f921"
             ]
            ],
            "type": "histogram2d"
           }
          ],
          "histogram2dcontour": [
           {
            "colorbar": {
             "outlinewidth": 0,
             "ticks": ""
            },
            "colorscale": [
             [
              0,
              "#0d0887"
             ],
             [
              0.1111111111111111,
              "#46039f"
             ],
             [
              0.2222222222222222,
              "#7201a8"
             ],
             [
              0.3333333333333333,
              "#9c179e"
             ],
             [
              0.4444444444444444,
              "#bd3786"
             ],
             [
              0.5555555555555556,
              "#d8576b"
             ],
             [
              0.6666666666666666,
              "#ed7953"
             ],
             [
              0.7777777777777778,
              "#fb9f3a"
             ],
             [
              0.8888888888888888,
              "#fdca26"
             ],
             [
              1,
              "#f0f921"
             ]
            ],
            "type": "histogram2dcontour"
           }
          ],
          "mesh3d": [
           {
            "colorbar": {
             "outlinewidth": 0,
             "ticks": ""
            },
            "type": "mesh3d"
           }
          ],
          "parcoords": [
           {
            "line": {
             "colorbar": {
              "outlinewidth": 0,
              "ticks": ""
             }
            },
            "type": "parcoords"
           }
          ],
          "pie": [
           {
            "automargin": true,
            "type": "pie"
           }
          ],
          "scatter": [
           {
            "marker": {
             "colorbar": {
              "outlinewidth": 0,
              "ticks": ""
             }
            },
            "type": "scatter"
           }
          ],
          "scatter3d": [
           {
            "line": {
             "colorbar": {
              "outlinewidth": 0,
              "ticks": ""
             }
            },
            "marker": {
             "colorbar": {
              "outlinewidth": 0,
              "ticks": ""
             }
            },
            "type": "scatter3d"
           }
          ],
          "scattercarpet": [
           {
            "marker": {
             "colorbar": {
              "outlinewidth": 0,
              "ticks": ""
             }
            },
            "type": "scattercarpet"
           }
          ],
          "scattergeo": [
           {
            "marker": {
             "colorbar": {
              "outlinewidth": 0,
              "ticks": ""
             }
            },
            "type": "scattergeo"
           }
          ],
          "scattergl": [
           {
            "marker": {
             "colorbar": {
              "outlinewidth": 0,
              "ticks": ""
             }
            },
            "type": "scattergl"
           }
          ],
          "scattermapbox": [
           {
            "marker": {
             "colorbar": {
              "outlinewidth": 0,
              "ticks": ""
             }
            },
            "type": "scattermapbox"
           }
          ],
          "scatterpolar": [
           {
            "marker": {
             "colorbar": {
              "outlinewidth": 0,
              "ticks": ""
             }
            },
            "type": "scatterpolar"
           }
          ],
          "scatterpolargl": [
           {
            "marker": {
             "colorbar": {
              "outlinewidth": 0,
              "ticks": ""
             }
            },
            "type": "scatterpolargl"
           }
          ],
          "scatterternary": [
           {
            "marker": {
             "colorbar": {
              "outlinewidth": 0,
              "ticks": ""
             }
            },
            "type": "scatterternary"
           }
          ],
          "surface": [
           {
            "colorbar": {
             "outlinewidth": 0,
             "ticks": ""
            },
            "colorscale": [
             [
              0,
              "#0d0887"
             ],
             [
              0.1111111111111111,
              "#46039f"
             ],
             [
              0.2222222222222222,
              "#7201a8"
             ],
             [
              0.3333333333333333,
              "#9c179e"
             ],
             [
              0.4444444444444444,
              "#bd3786"
             ],
             [
              0.5555555555555556,
              "#d8576b"
             ],
             [
              0.6666666666666666,
              "#ed7953"
             ],
             [
              0.7777777777777778,
              "#fb9f3a"
             ],
             [
              0.8888888888888888,
              "#fdca26"
             ],
             [
              1,
              "#f0f921"
             ]
            ],
            "type": "surface"
           }
          ],
          "table": [
           {
            "cells": {
             "fill": {
              "color": "#EBF0F8"
             },
             "line": {
              "color": "white"
             }
            },
            "header": {
             "fill": {
              "color": "#C8D4E3"
             },
             "line": {
              "color": "white"
             }
            },
            "type": "table"
           }
          ]
         },
         "layout": {
          "annotationdefaults": {
           "arrowcolor": "#2a3f5f",
           "arrowhead": 0,
           "arrowwidth": 1
          },
          "autotypenumbers": "strict",
          "coloraxis": {
           "colorbar": {
            "outlinewidth": 0,
            "ticks": ""
           }
          },
          "colorscale": {
           "diverging": [
            [
             0,
             "#8e0152"
            ],
            [
             0.1,
             "#c51b7d"
            ],
            [
             0.2,
             "#de77ae"
            ],
            [
             0.3,
             "#f1b6da"
            ],
            [
             0.4,
             "#fde0ef"
            ],
            [
             0.5,
             "#f7f7f7"
            ],
            [
             0.6,
             "#e6f5d0"
            ],
            [
             0.7,
             "#b8e186"
            ],
            [
             0.8,
             "#7fbc41"
            ],
            [
             0.9,
             "#4d9221"
            ],
            [
             1,
             "#276419"
            ]
           ],
           "sequential": [
            [
             0,
             "#0d0887"
            ],
            [
             0.1111111111111111,
             "#46039f"
            ],
            [
             0.2222222222222222,
             "#7201a8"
            ],
            [
             0.3333333333333333,
             "#9c179e"
            ],
            [
             0.4444444444444444,
             "#bd3786"
            ],
            [
             0.5555555555555556,
             "#d8576b"
            ],
            [
             0.6666666666666666,
             "#ed7953"
            ],
            [
             0.7777777777777778,
             "#fb9f3a"
            ],
            [
             0.8888888888888888,
             "#fdca26"
            ],
            [
             1,
             "#f0f921"
            ]
           ],
           "sequentialminus": [
            [
             0,
             "#0d0887"
            ],
            [
             0.1111111111111111,
             "#46039f"
            ],
            [
             0.2222222222222222,
             "#7201a8"
            ],
            [
             0.3333333333333333,
             "#9c179e"
            ],
            [
             0.4444444444444444,
             "#bd3786"
            ],
            [
             0.5555555555555556,
             "#d8576b"
            ],
            [
             0.6666666666666666,
             "#ed7953"
            ],
            [
             0.7777777777777778,
             "#fb9f3a"
            ],
            [
             0.8888888888888888,
             "#fdca26"
            ],
            [
             1,
             "#f0f921"
            ]
           ]
          },
          "colorway": [
           "#636efa",
           "#EF553B",
           "#00cc96",
           "#ab63fa",
           "#FFA15A",
           "#19d3f3",
           "#FF6692",
           "#B6E880",
           "#FF97FF",
           "#FECB52"
          ],
          "font": {
           "color": "#2a3f5f"
          },
          "geo": {
           "bgcolor": "white",
           "lakecolor": "white",
           "landcolor": "#E5ECF6",
           "showlakes": true,
           "showland": true,
           "subunitcolor": "white"
          },
          "hoverlabel": {
           "align": "left"
          },
          "hovermode": "closest",
          "mapbox": {
           "style": "light"
          },
          "paper_bgcolor": "white",
          "plot_bgcolor": "#E5ECF6",
          "polar": {
           "angularaxis": {
            "gridcolor": "white",
            "linecolor": "white",
            "ticks": ""
           },
           "bgcolor": "#E5ECF6",
           "radialaxis": {
            "gridcolor": "white",
            "linecolor": "white",
            "ticks": ""
           }
          },
          "scene": {
           "xaxis": {
            "backgroundcolor": "#E5ECF6",
            "gridcolor": "white",
            "gridwidth": 2,
            "linecolor": "white",
            "showbackground": true,
            "ticks": "",
            "zerolinecolor": "white"
           },
           "yaxis": {
            "backgroundcolor": "#E5ECF6",
            "gridcolor": "white",
            "gridwidth": 2,
            "linecolor": "white",
            "showbackground": true,
            "ticks": "",
            "zerolinecolor": "white"
           },
           "zaxis": {
            "backgroundcolor": "#E5ECF6",
            "gridcolor": "white",
            "gridwidth": 2,
            "linecolor": "white",
            "showbackground": true,
            "ticks": "",
            "zerolinecolor": "white"
           }
          },
          "shapedefaults": {
           "line": {
            "color": "#2a3f5f"
           }
          },
          "ternary": {
           "aaxis": {
            "gridcolor": "white",
            "linecolor": "white",
            "ticks": ""
           },
           "baxis": {
            "gridcolor": "white",
            "linecolor": "white",
            "ticks": ""
           },
           "bgcolor": "#E5ECF6",
           "caxis": {
            "gridcolor": "white",
            "linecolor": "white",
            "ticks": ""
           }
          },
          "title": {
           "x": 0.05
          },
          "xaxis": {
           "automargin": true,
           "gridcolor": "white",
           "linecolor": "white",
           "ticks": "",
           "title": {
            "standoff": 15
           },
           "zerolinecolor": "white",
           "zerolinewidth": 2
          },
          "yaxis": {
           "automargin": true,
           "gridcolor": "white",
           "linecolor": "white",
           "ticks": "",
           "title": {
            "standoff": 15
           },
           "zerolinecolor": "white",
           "zerolinewidth": 2
          }
         }
        },
        "title": {
         "text": "Amazon Stock Price"
        },
        "yaxis": {
         "title": {
          "text": "Stock price"
         }
        }
       }
      },
      "text/html": [
       "<div>                            <div id=\"175d5b1e-f5fa-437d-8dbc-92dea4c53b62\" class=\"plotly-graph-div\" style=\"height:525px; width:100%;\"></div>            <script type=\"text/javascript\">                require([\"plotly\"], function(Plotly) {                    window.PLOTLYENV=window.PLOTLYENV || {};                                    if (document.getElementById(\"175d5b1e-f5fa-437d-8dbc-92dea4c53b62\")) {                    Plotly.newPlot(                        \"175d5b1e-f5fa-437d-8dbc-92dea4c53b62\",                        [{\"close\":[3729.37,3738.89,3748.52,3741.38,3746.66,3754.91,3728.95,3732.23,3731.5,3733.81,3741.28,3733.67,3737.15,3742.81,3740.71,3740.06,3735.98,3741.97,3744.0,3747.42,3749.44,3756.54,3754.83,3752.2,3748.95,3754.12,3753.18,3757.02,3755.15,3754.48,3752.07,3751.92,3744.99,3742.7,3744.53,3745.5,3742.8,3739.59,3731.24,3718.89,3725.93,3723.21,3725.67,3724.36,3718.3,3703.11,3709.68,3687.49,3696.99,3695.23,3704.39,3705.9,3713.0,3713.31,3705.12,3708.66,3714.56,3716.94,3718.92,3713.36,3709.67,3704.58,3708.1,3699.83,3704.94,3701.0,3698.05,3699.18,3695.69,3695.64,3693.82,3686.02,3680.97,3683.35,3686.98,3687.19,3683.0,3676.82,3676.57],\"high\":[3738.0,3745.08,3748.94,3746.5,3747.2,3756.9,3756.19,3735.0,3732.97,3734.27,3748.85,3741.54,3740.67,3744.28,3745.0,3744.64,3741.67,3744.23,3745.0,3750.0,3755.87,3759.67,3757.53,3754.44,3755.17,3755.7,3757.0,3758.0,3762.15,3759.0,3756.15,3754.19,3750.55,3745.0,3747.47,3746.85,3747.79,3746.42,3738.78,3731.27,3728.73,3729.53,3727.96,3726.0,3724.36,3719.49,3711.45,3708.81,3700.07,3697.96,3704.86,3708.08,3714.34,3714.9,3716.22,3712.16,3714.56,3720.26,3720.52,3719.53,3718.32,3709.5,3710.25,3708.36,3706.46,3706.0,3703.45,3699.66,3699.88,3697.0,3697.65,3694.35,3688.16,3683.68,3689.66,3689.0,3690.16,3682.68,3676.57],\"low\":[3705.18,3735.26,3735.0,3736.0,3738.69,3743.63,3728.13,3718.0,3721.86,3729.42,3735.14,3725.51,3726.56,3733.63,3739.0,3736.85,3731.31,3735.16,3740.48,3743.14,3746.0,3748.14,3753.08,3746.35,3747.79,3749.19,3751.5,3751.45,3754.72,3754.14,3750.61,3750.2,3741.25,3737.66,3740.0,3739.48,3742.69,3739.59,3726.05,3715.8,3718.52,3722.53,3721.55,3723.0,3717.5,3702.88,3701.0,3682.68,3686.7,3692.31,3692.91,3703.04,3705.81,3709.29,3704.63,3704.53,3707.01,3711.42,3715.22,3713.36,3708.4,3702.61,3703.79,3699.0,3698.44,3700.05,3697.42,3696.9,3694.34,3691.23,3692.28,3686.0,3677.4,3677.0,3681.0,3682.45,3681.03,3675.72,3676.57],\"open\":[3712.69,3738.5,3736.0,3744.75,3739.0,3743.63,3756.19,3728.68,3732.78,3730.8,3735.14,3740.51,3733.2,3736.17,3742.22,3741.0,3740.25,3736.06,3742.07,3744.69,3747.02,3749.44,3756.87,3754.02,3754.12,3749.53,3754.51,3753.19,3757.23,3755.71,3753.39,3751.93,3750.51,3743.28,3741.82,3745.26,3745.02,3743.18,3738.78,3731.18,3718.52,3726.0,3724.02,3724.76,3724.36,3718.99,3703.6,3708.52,3686.7,3697.96,3695.29,3704.99,3705.86,3713.22,3714.41,3705.51,3707.01,3714.52,3717.0,3719.22,3713.82,3709.39,3703.93,3707.13,3700.05,3704.52,3703.15,3698.49,3698.11,3694.23,3695.01,3694.03,3685.96,3680.83,3682.89,3687.31,3687.13,3682.44,3676.57],\"x\":[\"2021-11-19T09:30:00-05:00\",\"2021-11-19T09:35:00-05:00\",\"2021-11-19T09:40:00-05:00\",\"2021-11-19T09:45:00-05:00\",\"2021-11-19T09:50:00-05:00\",\"2021-11-19T09:55:00-05:00\",\"2021-11-19T10:00:00-05:00\",\"2021-11-19T10:05:00-05:00\",\"2021-11-19T10:10:00-05:00\",\"2021-11-19T10:15:00-05:00\",\"2021-11-19T10:20:00-05:00\",\"2021-11-19T10:25:00-05:00\",\"2021-11-19T10:30:00-05:00\",\"2021-11-19T10:35:00-05:00\",\"2021-11-19T10:40:00-05:00\",\"2021-11-19T10:45:00-05:00\",\"2021-11-19T10:50:00-05:00\",\"2021-11-19T10:55:00-05:00\",\"2021-11-19T11:00:00-05:00\",\"2021-11-19T11:05:00-05:00\",\"2021-11-19T11:10:00-05:00\",\"2021-11-19T11:15:00-05:00\",\"2021-11-19T11:20:00-05:00\",\"2021-11-19T11:25:00-05:00\",\"2021-11-19T11:30:00-05:00\",\"2021-11-19T11:35:00-05:00\",\"2021-11-19T11:40:00-05:00\",\"2021-11-19T11:45:00-05:00\",\"2021-11-19T11:50:00-05:00\",\"2021-11-19T11:55:00-05:00\",\"2021-11-19T12:00:00-05:00\",\"2021-11-19T12:05:00-05:00\",\"2021-11-19T12:10:00-05:00\",\"2021-11-19T12:15:00-05:00\",\"2021-11-19T12:20:00-05:00\",\"2021-11-19T12:25:00-05:00\",\"2021-11-19T12:30:00-05:00\",\"2021-11-19T12:35:00-05:00\",\"2021-11-19T12:40:00-05:00\",\"2021-11-19T12:45:00-05:00\",\"2021-11-19T12:50:00-05:00\",\"2021-11-19T12:55:00-05:00\",\"2021-11-19T13:00:00-05:00\",\"2021-11-19T13:05:00-05:00\",\"2021-11-19T13:10:00-05:00\",\"2021-11-19T13:15:00-05:00\",\"2021-11-19T13:20:00-05:00\",\"2021-11-19T13:25:00-05:00\",\"2021-11-19T13:30:00-05:00\",\"2021-11-19T13:35:00-05:00\",\"2021-11-19T13:40:00-05:00\",\"2021-11-19T13:45:00-05:00\",\"2021-11-19T13:50:00-05:00\",\"2021-11-19T13:55:00-05:00\",\"2021-11-19T14:00:00-05:00\",\"2021-11-19T14:05:00-05:00\",\"2021-11-19T14:10:00-05:00\",\"2021-11-19T14:15:00-05:00\",\"2021-11-19T14:20:00-05:00\",\"2021-11-19T14:25:00-05:00\",\"2021-11-19T14:30:00-05:00\",\"2021-11-19T14:35:00-05:00\",\"2021-11-19T14:40:00-05:00\",\"2021-11-19T14:45:00-05:00\",\"2021-11-19T14:50:00-05:00\",\"2021-11-19T14:55:00-05:00\",\"2021-11-19T15:00:00-05:00\",\"2021-11-19T15:05:00-05:00\",\"2021-11-19T15:10:00-05:00\",\"2021-11-19T15:15:00-05:00\",\"2021-11-19T15:20:00-05:00\",\"2021-11-19T15:25:00-05:00\",\"2021-11-19T15:30:00-05:00\",\"2021-11-19T15:35:00-05:00\",\"2021-11-19T15:40:00-05:00\",\"2021-11-19T15:45:00-05:00\",\"2021-11-19T15:50:00-05:00\",\"2021-11-19T15:55:00-05:00\",\"2021-11-19T16:00:00-05:00\"],\"type\":\"candlestick\"}],                        {\"template\":{\"data\":{\"bar\":[{\"error_x\":{\"color\":\"#2a3f5f\"},\"error_y\":{\"color\":\"#2a3f5f\"},\"marker\":{\"line\":{\"color\":\"#E5ECF6\",\"width\":0.5},\"pattern\":{\"fillmode\":\"overlay\",\"size\":10,\"solidity\":0.2}},\"type\":\"bar\"}],\"barpolar\":[{\"marker\":{\"line\":{\"color\":\"#E5ECF6\",\"width\":0.5},\"pattern\":{\"fillmode\":\"overlay\",\"size\":10,\"solidity\":0.2}},\"type\":\"barpolar\"}],\"carpet\":[{\"aaxis\":{\"endlinecolor\":\"#2a3f5f\",\"gridcolor\":\"white\",\"linecolor\":\"white\",\"minorgridcolor\":\"white\",\"startlinecolor\":\"#2a3f5f\"},\"baxis\":{\"endlinecolor\":\"#2a3f5f\",\"gridcolor\":\"white\",\"linecolor\":\"white\",\"minorgridcolor\":\"white\",\"startlinecolor\":\"#2a3f5f\"},\"type\":\"carpet\"}],\"choropleth\":[{\"colorbar\":{\"outlinewidth\":0,\"ticks\":\"\"},\"type\":\"choropleth\"}],\"contour\":[{\"colorbar\":{\"outlinewidth\":0,\"ticks\":\"\"},\"colorscale\":[[0.0,\"#0d0887\"],[0.1111111111111111,\"#46039f\"],[0.2222222222222222,\"#7201a8\"],[0.3333333333333333,\"#9c179e\"],[0.4444444444444444,\"#bd3786\"],[0.5555555555555556,\"#d8576b\"],[0.6666666666666666,\"#ed7953\"],[0.7777777777777778,\"#fb9f3a\"],[0.8888888888888888,\"#fdca26\"],[1.0,\"#f0f921\"]],\"type\":\"contour\"}],\"contourcarpet\":[{\"colorbar\":{\"outlinewidth\":0,\"ticks\":\"\"},\"type\":\"contourcarpet\"}],\"heatmap\":[{\"colorbar\":{\"outlinewidth\":0,\"ticks\":\"\"},\"colorscale\":[[0.0,\"#0d0887\"],[0.1111111111111111,\"#46039f\"],[0.2222222222222222,\"#7201a8\"],[0.3333333333333333,\"#9c179e\"],[0.4444444444444444,\"#bd3786\"],[0.5555555555555556,\"#d8576b\"],[0.6666666666666666,\"#ed7953\"],[0.7777777777777778,\"#fb9f3a\"],[0.8888888888888888,\"#fdca26\"],[1.0,\"#f0f921\"]],\"type\":\"heatmap\"}],\"heatmapgl\":[{\"colorbar\":{\"outlinewidth\":0,\"ticks\":\"\"},\"colorscale\":[[0.0,\"#0d0887\"],[0.1111111111111111,\"#46039f\"],[0.2222222222222222,\"#7201a8\"],[0.3333333333333333,\"#9c179e\"],[0.4444444444444444,\"#bd3786\"],[0.5555555555555556,\"#d8576b\"],[0.6666666666666666,\"#ed7953\"],[0.7777777777777778,\"#fb9f3a\"],[0.8888888888888888,\"#fdca26\"],[1.0,\"#f0f921\"]],\"type\":\"heatmapgl\"}],\"histogram\":[{\"marker\":{\"pattern\":{\"fillmode\":\"overlay\",\"size\":10,\"solidity\":0.2}},\"type\":\"histogram\"}],\"histogram2d\":[{\"colorbar\":{\"outlinewidth\":0,\"ticks\":\"\"},\"colorscale\":[[0.0,\"#0d0887\"],[0.1111111111111111,\"#46039f\"],[0.2222222222222222,\"#7201a8\"],[0.3333333333333333,\"#9c179e\"],[0.4444444444444444,\"#bd3786\"],[0.5555555555555556,\"#d8576b\"],[0.6666666666666666,\"#ed7953\"],[0.7777777777777778,\"#fb9f3a\"],[0.8888888888888888,\"#fdca26\"],[1.0,\"#f0f921\"]],\"type\":\"histogram2d\"}],\"histogram2dcontour\":[{\"colorbar\":{\"outlinewidth\":0,\"ticks\":\"\"},\"colorscale\":[[0.0,\"#0d0887\"],[0.1111111111111111,\"#46039f\"],[0.2222222222222222,\"#7201a8\"],[0.3333333333333333,\"#9c179e\"],[0.4444444444444444,\"#bd3786\"],[0.5555555555555556,\"#d8576b\"],[0.6666666666666666,\"#ed7953\"],[0.7777777777777778,\"#fb9f3a\"],[0.8888888888888888,\"#fdca26\"],[1.0,\"#f0f921\"]],\"type\":\"histogram2dcontour\"}],\"mesh3d\":[{\"colorbar\":{\"outlinewidth\":0,\"ticks\":\"\"},\"type\":\"mesh3d\"}],\"parcoords\":[{\"line\":{\"colorbar\":{\"outlinewidth\":0,\"ticks\":\"\"}},\"type\":\"parcoords\"}],\"pie\":[{\"automargin\":true,\"type\":\"pie\"}],\"scatter\":[{\"marker\":{\"colorbar\":{\"outlinewidth\":0,\"ticks\":\"\"}},\"type\":\"scatter\"}],\"scatter3d\":[{\"line\":{\"colorbar\":{\"outlinewidth\":0,\"ticks\":\"\"}},\"marker\":{\"colorbar\":{\"outlinewidth\":0,\"ticks\":\"\"}},\"type\":\"scatter3d\"}],\"scattercarpet\":[{\"marker\":{\"colorbar\":{\"outlinewidth\":0,\"ticks\":\"\"}},\"type\":\"scattercarpet\"}],\"scattergeo\":[{\"marker\":{\"colorbar\":{\"outlinewidth\":0,\"ticks\":\"\"}},\"type\":\"scattergeo\"}],\"scattergl\":[{\"marker\":{\"colorbar\":{\"outlinewidth\":0,\"ticks\":\"\"}},\"type\":\"scattergl\"}],\"scattermapbox\":[{\"marker\":{\"colorbar\":{\"outlinewidth\":0,\"ticks\":\"\"}},\"type\":\"scattermapbox\"}],\"scatterpolar\":[{\"marker\":{\"colorbar\":{\"outlinewidth\":0,\"ticks\":\"\"}},\"type\":\"scatterpolar\"}],\"scatterpolargl\":[{\"marker\":{\"colorbar\":{\"outlinewidth\":0,\"ticks\":\"\"}},\"type\":\"scatterpolargl\"}],\"scatterternary\":[{\"marker\":{\"colorbar\":{\"outlinewidth\":0,\"ticks\":\"\"}},\"type\":\"scatterternary\"}],\"surface\":[{\"colorbar\":{\"outlinewidth\":0,\"ticks\":\"\"},\"colorscale\":[[0.0,\"#0d0887\"],[0.1111111111111111,\"#46039f\"],[0.2222222222222222,\"#7201a8\"],[0.3333333333333333,\"#9c179e\"],[0.4444444444444444,\"#bd3786\"],[0.5555555555555556,\"#d8576b\"],[0.6666666666666666,\"#ed7953\"],[0.7777777777777778,\"#fb9f3a\"],[0.8888888888888888,\"#fdca26\"],[1.0,\"#f0f921\"]],\"type\":\"surface\"}],\"table\":[{\"cells\":{\"fill\":{\"color\":\"#EBF0F8\"},\"line\":{\"color\":\"white\"}},\"header\":{\"fill\":{\"color\":\"#C8D4E3\"},\"line\":{\"color\":\"white\"}},\"type\":\"table\"}]},\"layout\":{\"annotationdefaults\":{\"arrowcolor\":\"#2a3f5f\",\"arrowhead\":0,\"arrowwidth\":1},\"autotypenumbers\":\"strict\",\"coloraxis\":{\"colorbar\":{\"outlinewidth\":0,\"ticks\":\"\"}},\"colorscale\":{\"diverging\":[[0,\"#8e0152\"],[0.1,\"#c51b7d\"],[0.2,\"#de77ae\"],[0.3,\"#f1b6da\"],[0.4,\"#fde0ef\"],[0.5,\"#f7f7f7\"],[0.6,\"#e6f5d0\"],[0.7,\"#b8e186\"],[0.8,\"#7fbc41\"],[0.9,\"#4d9221\"],[1,\"#276419\"]],\"sequential\":[[0.0,\"#0d0887\"],[0.1111111111111111,\"#46039f\"],[0.2222222222222222,\"#7201a8\"],[0.3333333333333333,\"#9c179e\"],[0.4444444444444444,\"#bd3786\"],[0.5555555555555556,\"#d8576b\"],[0.6666666666666666,\"#ed7953\"],[0.7777777777777778,\"#fb9f3a\"],[0.8888888888888888,\"#fdca26\"],[1.0,\"#f0f921\"]],\"sequentialminus\":[[0.0,\"#0d0887\"],[0.1111111111111111,\"#46039f\"],[0.2222222222222222,\"#7201a8\"],[0.3333333333333333,\"#9c179e\"],[0.4444444444444444,\"#bd3786\"],[0.5555555555555556,\"#d8576b\"],[0.6666666666666666,\"#ed7953\"],[0.7777777777777778,\"#fb9f3a\"],[0.8888888888888888,\"#fdca26\"],[1.0,\"#f0f921\"]]},\"colorway\":[\"#636efa\",\"#EF553B\",\"#00cc96\",\"#ab63fa\",\"#FFA15A\",\"#19d3f3\",\"#FF6692\",\"#B6E880\",\"#FF97FF\",\"#FECB52\"],\"font\":{\"color\":\"#2a3f5f\"},\"geo\":{\"bgcolor\":\"white\",\"lakecolor\":\"white\",\"landcolor\":\"#E5ECF6\",\"showlakes\":true,\"showland\":true,\"subunitcolor\":\"white\"},\"hoverlabel\":{\"align\":\"left\"},\"hovermode\":\"closest\",\"mapbox\":{\"style\":\"light\"},\"paper_bgcolor\":\"white\",\"plot_bgcolor\":\"#E5ECF6\",\"polar\":{\"angularaxis\":{\"gridcolor\":\"white\",\"linecolor\":\"white\",\"ticks\":\"\"},\"bgcolor\":\"#E5ECF6\",\"radialaxis\":{\"gridcolor\":\"white\",\"linecolor\":\"white\",\"ticks\":\"\"}},\"scene\":{\"xaxis\":{\"backgroundcolor\":\"#E5ECF6\",\"gridcolor\":\"white\",\"gridwidth\":2,\"linecolor\":\"white\",\"showbackground\":true,\"ticks\":\"\",\"zerolinecolor\":\"white\"},\"yaxis\":{\"backgroundcolor\":\"#E5ECF6\",\"gridcolor\":\"white\",\"gridwidth\":2,\"linecolor\":\"white\",\"showbackground\":true,\"ticks\":\"\",\"zerolinecolor\":\"white\"},\"zaxis\":{\"backgroundcolor\":\"#E5ECF6\",\"gridcolor\":\"white\",\"gridwidth\":2,\"linecolor\":\"white\",\"showbackground\":true,\"ticks\":\"\",\"zerolinecolor\":\"white\"}},\"shapedefaults\":{\"line\":{\"color\":\"#2a3f5f\"}},\"ternary\":{\"aaxis\":{\"gridcolor\":\"white\",\"linecolor\":\"white\",\"ticks\":\"\"},\"baxis\":{\"gridcolor\":\"white\",\"linecolor\":\"white\",\"ticks\":\"\"},\"bgcolor\":\"#E5ECF6\",\"caxis\":{\"gridcolor\":\"white\",\"linecolor\":\"white\",\"ticks\":\"\"}},\"title\":{\"x\":0.05},\"xaxis\":{\"automargin\":true,\"gridcolor\":\"white\",\"linecolor\":\"white\",\"ticks\":\"\",\"title\":{\"standoff\":15},\"zerolinecolor\":\"white\",\"zerolinewidth\":2},\"yaxis\":{\"automargin\":true,\"gridcolor\":\"white\",\"linecolor\":\"white\",\"ticks\":\"\",\"title\":{\"standoff\":15},\"zerolinecolor\":\"white\",\"zerolinewidth\":2}}},\"title\":{\"text\":\"Amazon Stock Price\"},\"yaxis\":{\"title\":{\"text\":\"Stock price\"}}},                        {\"responsive\": true}                    ).then(function(){\n",
       "                            \n",
       "var gd = document.getElementById('175d5b1e-f5fa-437d-8dbc-92dea4c53b62');\n",
       "var x = new MutationObserver(function (mutations, observer) {{\n",
       "        var display = window.getComputedStyle(gd).display;\n",
       "        if (!display || display === 'none') {{\n",
       "            console.log([gd, 'removed!']);\n",
       "            Plotly.purge(gd);\n",
       "            observer.disconnect();\n",
       "        }}\n",
       "}});\n",
       "\n",
       "// Listen for the removal of the full notebook cells\n",
       "var notebookContainer = gd.closest('#notebook-container');\n",
       "if (notebookContainer) {{\n",
       "    x.observe(notebookContainer, {childList: true});\n",
       "}}\n",
       "\n",
       "// Listen for the clearing of the current output cell\n",
       "var outputEl = gd.closest('.output');\n",
       "if (outputEl) {{\n",
       "    x.observe(outputEl, {childList: true});\n",
       "}}\n",
       "\n",
       "                        })                };                });            </script>        </div>"
      ]
     },
     "metadata": {},
     "output_type": "display_data"
    }
   ],
   "source": [
    "amzn_chart = go.Candlestick(x=df.index,open = df[('AMZN','Open')],high = df[('AMZN','High')],low = df[('AMZN','Low')],close = df[('AMZN','Close')])\n",
    "amzn_fig = go.Figure(data=[amzn_chart])\n",
    "amzn_fig.update_layout(\n",
    "    title='Amazon Stock Price',\n",
    "    yaxis_title='Stock price')\n",
    "amzn_fig.show()"
   ]
  },
  {
   "cell_type": "code",
   "execution_count": 70,
   "id": "a4ffea95",
   "metadata": {},
   "outputs": [
    {
     "data": {
      "application/vnd.plotly.v1+json": {
       "config": {
        "plotlyServerURL": "https://plot.ly"
       },
       "data": [
        {
         "close": [
          469.02,
          469.41,
          469.67,
          469.63,
          469.68,
          470.18,
          469.3,
          469.39,
          469.54,
          469.54,
          469.33,
          468.86,
          469.23,
          469.52,
          469.71,
          469.56,
          469.35,
          469.35,
          469.86,
          469.77,
          469.84,
          470.05,
          469.94,
          470.08,
          469.92,
          470.09,
          470.08,
          469.97,
          469.91,
          469.97,
          470.03,
          470.12,
          470.46,
          470.26,
          470.38,
          470.42,
          470.56,
          470.64,
          470.42,
          470.33,
          470.53,
          470.31,
          470.31,
          470.36,
          470.1,
          469.96,
          469.87,
          469.21,
          469.24,
          468.86,
          468.99,
          468.99,
          469.37,
          469.54,
          469.51,
          469.67,
          469.69,
          469.71,
          469.77,
          469.42,
          469.26,
          469.27,
          469.39,
          469.37,
          469.55,
          469.4,
          469.29,
          469.37,
          469.12,
          469.07,
          469.18,
          469.22,
          469.25,
          469.14,
          468.9,
          469.08,
          468.78,
          468.91,
          468.89
         ],
         "high": [
          469.76,
          469.5,
          469.67,
          469.86,
          469.73,
          470.21,
          470.21,
          469.53,
          469.54,
          469.64,
          469.58,
          469.43,
          469.26,
          469.54,
          469.81,
          469.77,
          469.71,
          469.62,
          469.86,
          469.93,
          469.94,
          470.13,
          470.11,
          470.09,
          470.19,
          470.2,
          470.19,
          470.19,
          470.05,
          470.05,
          470.09,
          470.19,
          470.47,
          470.46,
          470.39,
          470.44,
          470.6,
          470.94,
          470.66,
          470.44,
          470.57,
          470.56,
          470.38,
          470.44,
          470.43,
          470.21,
          470.01,
          469.89,
          469.4,
          469.28,
          469.01,
          469.01,
          469.37,
          469.55,
          469.63,
          469.68,
          469.81,
          469.85,
          469.85,
          469.83,
          469.6,
          469.38,
          469.48,
          469.49,
          469.58,
          469.57,
          469.54,
          469.44,
          469.39,
          469.14,
          469.2,
          469.28,
          469.29,
          469.37,
          469.15,
          469.14,
          469.18,
          469.1,
          468.89
         ],
         "low": [
          468.71,
          469.02,
          469.12,
          469.21,
          469.35,
          469.57,
          469.26,
          469.03,
          469.08,
          469.2,
          469.23,
          468.81,
          468.8,
          469.03,
          469.46,
          469.31,
          469.09,
          469.32,
          469.32,
          469.65,
          469.72,
          469.83,
          469.86,
          469.81,
          469.87,
          469.92,
          469.98,
          469.94,
          469.81,
          469.83,
          469.97,
          470.03,
          470.11,
          470.18,
          470.17,
          470.36,
          470.41,
          470.56,
          470.24,
          470.18,
          470.29,
          470.31,
          470.17,
          470.31,
          469.93,
          469.74,
          469.8,
          469.2,
          469.11,
          468.7,
          468.5,
          468.73,
          468.98,
          469.32,
          469.43,
          469.49,
          469.55,
          469.61,
          469.68,
          469.42,
          469.1,
          469.17,
          469.21,
          469.29,
          469.3,
          469.34,
          469.29,
          469.18,
          469.07,
          468.89,
          468.96,
          469.04,
          469.14,
          469.06,
          468.88,
          468.69,
          468.67,
          468.66,
          468.89
         ],
         "open": [
          469.61,
          469.03,
          469.39,
          469.67,
          469.64,
          469.68,
          470.18,
          469.31,
          469.39,
          469.54,
          469.54,
          469.33,
          468.85,
          469.23,
          469.52,
          469.71,
          469.57,
          469.35,
          469.35,
          469.86,
          469.76,
          469.84,
          470.06,
          469.95,
          470.1,
          469.93,
          470.1,
          470.09,
          469.96,
          469.9,
          469.97,
          470.03,
          470.12,
          470.45,
          470.26,
          470.38,
          470.42,
          470.56,
          470.66,
          470.42,
          470.32,
          470.54,
          470.32,
          470.31,
          470.37,
          470.09,
          469.96,
          469.89,
          469.2,
          469.24,
          468.86,
          468.99,
          468.99,
          469.36,
          469.53,
          469.51,
          469.66,
          469.69,
          469.73,
          469.78,
          469.44,
          469.25,
          469.27,
          469.39,
          469.37,
          469.56,
          469.39,
          469.3,
          469.39,
          469.11,
          469.07,
          469.19,
          469.21,
          469.26,
          469.14,
          468.9,
          469.07,
          468.78,
          468.89
         ],
         "type": "candlestick",
         "x": [
          "2021-11-19T09:30:00-05:00",
          "2021-11-19T09:35:00-05:00",
          "2021-11-19T09:40:00-05:00",
          "2021-11-19T09:45:00-05:00",
          "2021-11-19T09:50:00-05:00",
          "2021-11-19T09:55:00-05:00",
          "2021-11-19T10:00:00-05:00",
          "2021-11-19T10:05:00-05:00",
          "2021-11-19T10:10:00-05:00",
          "2021-11-19T10:15:00-05:00",
          "2021-11-19T10:20:00-05:00",
          "2021-11-19T10:25:00-05:00",
          "2021-11-19T10:30:00-05:00",
          "2021-11-19T10:35:00-05:00",
          "2021-11-19T10:40:00-05:00",
          "2021-11-19T10:45:00-05:00",
          "2021-11-19T10:50:00-05:00",
          "2021-11-19T10:55:00-05:00",
          "2021-11-19T11:00:00-05:00",
          "2021-11-19T11:05:00-05:00",
          "2021-11-19T11:10:00-05:00",
          "2021-11-19T11:15:00-05:00",
          "2021-11-19T11:20:00-05:00",
          "2021-11-19T11:25:00-05:00",
          "2021-11-19T11:30:00-05:00",
          "2021-11-19T11:35:00-05:00",
          "2021-11-19T11:40:00-05:00",
          "2021-11-19T11:45:00-05:00",
          "2021-11-19T11:50:00-05:00",
          "2021-11-19T11:55:00-05:00",
          "2021-11-19T12:00:00-05:00",
          "2021-11-19T12:05:00-05:00",
          "2021-11-19T12:10:00-05:00",
          "2021-11-19T12:15:00-05:00",
          "2021-11-19T12:20:00-05:00",
          "2021-11-19T12:25:00-05:00",
          "2021-11-19T12:30:00-05:00",
          "2021-11-19T12:35:00-05:00",
          "2021-11-19T12:40:00-05:00",
          "2021-11-19T12:45:00-05:00",
          "2021-11-19T12:50:00-05:00",
          "2021-11-19T12:55:00-05:00",
          "2021-11-19T13:00:00-05:00",
          "2021-11-19T13:05:00-05:00",
          "2021-11-19T13:10:00-05:00",
          "2021-11-19T13:15:00-05:00",
          "2021-11-19T13:20:00-05:00",
          "2021-11-19T13:25:00-05:00",
          "2021-11-19T13:30:00-05:00",
          "2021-11-19T13:35:00-05:00",
          "2021-11-19T13:40:00-05:00",
          "2021-11-19T13:45:00-05:00",
          "2021-11-19T13:50:00-05:00",
          "2021-11-19T13:55:00-05:00",
          "2021-11-19T14:00:00-05:00",
          "2021-11-19T14:05:00-05:00",
          "2021-11-19T14:10:00-05:00",
          "2021-11-19T14:15:00-05:00",
          "2021-11-19T14:20:00-05:00",
          "2021-11-19T14:25:00-05:00",
          "2021-11-19T14:30:00-05:00",
          "2021-11-19T14:35:00-05:00",
          "2021-11-19T14:40:00-05:00",
          "2021-11-19T14:45:00-05:00",
          "2021-11-19T14:50:00-05:00",
          "2021-11-19T14:55:00-05:00",
          "2021-11-19T15:00:00-05:00",
          "2021-11-19T15:05:00-05:00",
          "2021-11-19T15:10:00-05:00",
          "2021-11-19T15:15:00-05:00",
          "2021-11-19T15:20:00-05:00",
          "2021-11-19T15:25:00-05:00",
          "2021-11-19T15:30:00-05:00",
          "2021-11-19T15:35:00-05:00",
          "2021-11-19T15:40:00-05:00",
          "2021-11-19T15:45:00-05:00",
          "2021-11-19T15:50:00-05:00",
          "2021-11-19T15:55:00-05:00",
          "2021-11-19T16:00:00-05:00"
         ]
        }
       ],
       "layout": {
        "template": {
         "data": {
          "bar": [
           {
            "error_x": {
             "color": "#2a3f5f"
            },
            "error_y": {
             "color": "#2a3f5f"
            },
            "marker": {
             "line": {
              "color": "#E5ECF6",
              "width": 0.5
             },
             "pattern": {
              "fillmode": "overlay",
              "size": 10,
              "solidity": 0.2
             }
            },
            "type": "bar"
           }
          ],
          "barpolar": [
           {
            "marker": {
             "line": {
              "color": "#E5ECF6",
              "width": 0.5
             },
             "pattern": {
              "fillmode": "overlay",
              "size": 10,
              "solidity": 0.2
             }
            },
            "type": "barpolar"
           }
          ],
          "carpet": [
           {
            "aaxis": {
             "endlinecolor": "#2a3f5f",
             "gridcolor": "white",
             "linecolor": "white",
             "minorgridcolor": "white",
             "startlinecolor": "#2a3f5f"
            },
            "baxis": {
             "endlinecolor": "#2a3f5f",
             "gridcolor": "white",
             "linecolor": "white",
             "minorgridcolor": "white",
             "startlinecolor": "#2a3f5f"
            },
            "type": "carpet"
           }
          ],
          "choropleth": [
           {
            "colorbar": {
             "outlinewidth": 0,
             "ticks": ""
            },
            "type": "choropleth"
           }
          ],
          "contour": [
           {
            "colorbar": {
             "outlinewidth": 0,
             "ticks": ""
            },
            "colorscale": [
             [
              0,
              "#0d0887"
             ],
             [
              0.1111111111111111,
              "#46039f"
             ],
             [
              0.2222222222222222,
              "#7201a8"
             ],
             [
              0.3333333333333333,
              "#9c179e"
             ],
             [
              0.4444444444444444,
              "#bd3786"
             ],
             [
              0.5555555555555556,
              "#d8576b"
             ],
             [
              0.6666666666666666,
              "#ed7953"
             ],
             [
              0.7777777777777778,
              "#fb9f3a"
             ],
             [
              0.8888888888888888,
              "#fdca26"
             ],
             [
              1,
              "#f0f921"
             ]
            ],
            "type": "contour"
           }
          ],
          "contourcarpet": [
           {
            "colorbar": {
             "outlinewidth": 0,
             "ticks": ""
            },
            "type": "contourcarpet"
           }
          ],
          "heatmap": [
           {
            "colorbar": {
             "outlinewidth": 0,
             "ticks": ""
            },
            "colorscale": [
             [
              0,
              "#0d0887"
             ],
             [
              0.1111111111111111,
              "#46039f"
             ],
             [
              0.2222222222222222,
              "#7201a8"
             ],
             [
              0.3333333333333333,
              "#9c179e"
             ],
             [
              0.4444444444444444,
              "#bd3786"
             ],
             [
              0.5555555555555556,
              "#d8576b"
             ],
             [
              0.6666666666666666,
              "#ed7953"
             ],
             [
              0.7777777777777778,
              "#fb9f3a"
             ],
             [
              0.8888888888888888,
              "#fdca26"
             ],
             [
              1,
              "#f0f921"
             ]
            ],
            "type": "heatmap"
           }
          ],
          "heatmapgl": [
           {
            "colorbar": {
             "outlinewidth": 0,
             "ticks": ""
            },
            "colorscale": [
             [
              0,
              "#0d0887"
             ],
             [
              0.1111111111111111,
              "#46039f"
             ],
             [
              0.2222222222222222,
              "#7201a8"
             ],
             [
              0.3333333333333333,
              "#9c179e"
             ],
             [
              0.4444444444444444,
              "#bd3786"
             ],
             [
              0.5555555555555556,
              "#d8576b"
             ],
             [
              0.6666666666666666,
              "#ed7953"
             ],
             [
              0.7777777777777778,
              "#fb9f3a"
             ],
             [
              0.8888888888888888,
              "#fdca26"
             ],
             [
              1,
              "#f0f921"
             ]
            ],
            "type": "heatmapgl"
           }
          ],
          "histogram": [
           {
            "marker": {
             "pattern": {
              "fillmode": "overlay",
              "size": 10,
              "solidity": 0.2
             }
            },
            "type": "histogram"
           }
          ],
          "histogram2d": [
           {
            "colorbar": {
             "outlinewidth": 0,
             "ticks": ""
            },
            "colorscale": [
             [
              0,
              "#0d0887"
             ],
             [
              0.1111111111111111,
              "#46039f"
             ],
             [
              0.2222222222222222,
              "#7201a8"
             ],
             [
              0.3333333333333333,
              "#9c179e"
             ],
             [
              0.4444444444444444,
              "#bd3786"
             ],
             [
              0.5555555555555556,
              "#d8576b"
             ],
             [
              0.6666666666666666,
              "#ed7953"
             ],
             [
              0.7777777777777778,
              "#fb9f3a"
             ],
             [
              0.8888888888888888,
              "#fdca26"
             ],
             [
              1,
              "#f0f921"
             ]
            ],
            "type": "histogram2d"
           }
          ],
          "histogram2dcontour": [
           {
            "colorbar": {
             "outlinewidth": 0,
             "ticks": ""
            },
            "colorscale": [
             [
              0,
              "#0d0887"
             ],
             [
              0.1111111111111111,
              "#46039f"
             ],
             [
              0.2222222222222222,
              "#7201a8"
             ],
             [
              0.3333333333333333,
              "#9c179e"
             ],
             [
              0.4444444444444444,
              "#bd3786"
             ],
             [
              0.5555555555555556,
              "#d8576b"
             ],
             [
              0.6666666666666666,
              "#ed7953"
             ],
             [
              0.7777777777777778,
              "#fb9f3a"
             ],
             [
              0.8888888888888888,
              "#fdca26"
             ],
             [
              1,
              "#f0f921"
             ]
            ],
            "type": "histogram2dcontour"
           }
          ],
          "mesh3d": [
           {
            "colorbar": {
             "outlinewidth": 0,
             "ticks": ""
            },
            "type": "mesh3d"
           }
          ],
          "parcoords": [
           {
            "line": {
             "colorbar": {
              "outlinewidth": 0,
              "ticks": ""
             }
            },
            "type": "parcoords"
           }
          ],
          "pie": [
           {
            "automargin": true,
            "type": "pie"
           }
          ],
          "scatter": [
           {
            "marker": {
             "colorbar": {
              "outlinewidth": 0,
              "ticks": ""
             }
            },
            "type": "scatter"
           }
          ],
          "scatter3d": [
           {
            "line": {
             "colorbar": {
              "outlinewidth": 0,
              "ticks": ""
             }
            },
            "marker": {
             "colorbar": {
              "outlinewidth": 0,
              "ticks": ""
             }
            },
            "type": "scatter3d"
           }
          ],
          "scattercarpet": [
           {
            "marker": {
             "colorbar": {
              "outlinewidth": 0,
              "ticks": ""
             }
            },
            "type": "scattercarpet"
           }
          ],
          "scattergeo": [
           {
            "marker": {
             "colorbar": {
              "outlinewidth": 0,
              "ticks": ""
             }
            },
            "type": "scattergeo"
           }
          ],
          "scattergl": [
           {
            "marker": {
             "colorbar": {
              "outlinewidth": 0,
              "ticks": ""
             }
            },
            "type": "scattergl"
           }
          ],
          "scattermapbox": [
           {
            "marker": {
             "colorbar": {
              "outlinewidth": 0,
              "ticks": ""
             }
            },
            "type": "scattermapbox"
           }
          ],
          "scatterpolar": [
           {
            "marker": {
             "colorbar": {
              "outlinewidth": 0,
              "ticks": ""
             }
            },
            "type": "scatterpolar"
           }
          ],
          "scatterpolargl": [
           {
            "marker": {
             "colorbar": {
              "outlinewidth": 0,
              "ticks": ""
             }
            },
            "type": "scatterpolargl"
           }
          ],
          "scatterternary": [
           {
            "marker": {
             "colorbar": {
              "outlinewidth": 0,
              "ticks": ""
             }
            },
            "type": "scatterternary"
           }
          ],
          "surface": [
           {
            "colorbar": {
             "outlinewidth": 0,
             "ticks": ""
            },
            "colorscale": [
             [
              0,
              "#0d0887"
             ],
             [
              0.1111111111111111,
              "#46039f"
             ],
             [
              0.2222222222222222,
              "#7201a8"
             ],
             [
              0.3333333333333333,
              "#9c179e"
             ],
             [
              0.4444444444444444,
              "#bd3786"
             ],
             [
              0.5555555555555556,
              "#d8576b"
             ],
             [
              0.6666666666666666,
              "#ed7953"
             ],
             [
              0.7777777777777778,
              "#fb9f3a"
             ],
             [
              0.8888888888888888,
              "#fdca26"
             ],
             [
              1,
              "#f0f921"
             ]
            ],
            "type": "surface"
           }
          ],
          "table": [
           {
            "cells": {
             "fill": {
              "color": "#EBF0F8"
             },
             "line": {
              "color": "white"
             }
            },
            "header": {
             "fill": {
              "color": "#C8D4E3"
             },
             "line": {
              "color": "white"
             }
            },
            "type": "table"
           }
          ]
         },
         "layout": {
          "annotationdefaults": {
           "arrowcolor": "#2a3f5f",
           "arrowhead": 0,
           "arrowwidth": 1
          },
          "autotypenumbers": "strict",
          "coloraxis": {
           "colorbar": {
            "outlinewidth": 0,
            "ticks": ""
           }
          },
          "colorscale": {
           "diverging": [
            [
             0,
             "#8e0152"
            ],
            [
             0.1,
             "#c51b7d"
            ],
            [
             0.2,
             "#de77ae"
            ],
            [
             0.3,
             "#f1b6da"
            ],
            [
             0.4,
             "#fde0ef"
            ],
            [
             0.5,
             "#f7f7f7"
            ],
            [
             0.6,
             "#e6f5d0"
            ],
            [
             0.7,
             "#b8e186"
            ],
            [
             0.8,
             "#7fbc41"
            ],
            [
             0.9,
             "#4d9221"
            ],
            [
             1,
             "#276419"
            ]
           ],
           "sequential": [
            [
             0,
             "#0d0887"
            ],
            [
             0.1111111111111111,
             "#46039f"
            ],
            [
             0.2222222222222222,
             "#7201a8"
            ],
            [
             0.3333333333333333,
             "#9c179e"
            ],
            [
             0.4444444444444444,
             "#bd3786"
            ],
            [
             0.5555555555555556,
             "#d8576b"
            ],
            [
             0.6666666666666666,
             "#ed7953"
            ],
            [
             0.7777777777777778,
             "#fb9f3a"
            ],
            [
             0.8888888888888888,
             "#fdca26"
            ],
            [
             1,
             "#f0f921"
            ]
           ],
           "sequentialminus": [
            [
             0,
             "#0d0887"
            ],
            [
             0.1111111111111111,
             "#46039f"
            ],
            [
             0.2222222222222222,
             "#7201a8"
            ],
            [
             0.3333333333333333,
             "#9c179e"
            ],
            [
             0.4444444444444444,
             "#bd3786"
            ],
            [
             0.5555555555555556,
             "#d8576b"
            ],
            [
             0.6666666666666666,
             "#ed7953"
            ],
            [
             0.7777777777777778,
             "#fb9f3a"
            ],
            [
             0.8888888888888888,
             "#fdca26"
            ],
            [
             1,
             "#f0f921"
            ]
           ]
          },
          "colorway": [
           "#636efa",
           "#EF553B",
           "#00cc96",
           "#ab63fa",
           "#FFA15A",
           "#19d3f3",
           "#FF6692",
           "#B6E880",
           "#FF97FF",
           "#FECB52"
          ],
          "font": {
           "color": "#2a3f5f"
          },
          "geo": {
           "bgcolor": "white",
           "lakecolor": "white",
           "landcolor": "#E5ECF6",
           "showlakes": true,
           "showland": true,
           "subunitcolor": "white"
          },
          "hoverlabel": {
           "align": "left"
          },
          "hovermode": "closest",
          "mapbox": {
           "style": "light"
          },
          "paper_bgcolor": "white",
          "plot_bgcolor": "#E5ECF6",
          "polar": {
           "angularaxis": {
            "gridcolor": "white",
            "linecolor": "white",
            "ticks": ""
           },
           "bgcolor": "#E5ECF6",
           "radialaxis": {
            "gridcolor": "white",
            "linecolor": "white",
            "ticks": ""
           }
          },
          "scene": {
           "xaxis": {
            "backgroundcolor": "#E5ECF6",
            "gridcolor": "white",
            "gridwidth": 2,
            "linecolor": "white",
            "showbackground": true,
            "ticks": "",
            "zerolinecolor": "white"
           },
           "yaxis": {
            "backgroundcolor": "#E5ECF6",
            "gridcolor": "white",
            "gridwidth": 2,
            "linecolor": "white",
            "showbackground": true,
            "ticks": "",
            "zerolinecolor": "white"
           },
           "zaxis": {
            "backgroundcolor": "#E5ECF6",
            "gridcolor": "white",
            "gridwidth": 2,
            "linecolor": "white",
            "showbackground": true,
            "ticks": "",
            "zerolinecolor": "white"
           }
          },
          "shapedefaults": {
           "line": {
            "color": "#2a3f5f"
           }
          },
          "ternary": {
           "aaxis": {
            "gridcolor": "white",
            "linecolor": "white",
            "ticks": ""
           },
           "baxis": {
            "gridcolor": "white",
            "linecolor": "white",
            "ticks": ""
           },
           "bgcolor": "#E5ECF6",
           "caxis": {
            "gridcolor": "white",
            "linecolor": "white",
            "ticks": ""
           }
          },
          "title": {
           "x": 0.05
          },
          "xaxis": {
           "automargin": true,
           "gridcolor": "white",
           "linecolor": "white",
           "ticks": "",
           "title": {
            "standoff": 15
           },
           "zerolinecolor": "white",
           "zerolinewidth": 2
          },
          "yaxis": {
           "automargin": true,
           "gridcolor": "white",
           "linecolor": "white",
           "ticks": "",
           "title": {
            "standoff": 15
           },
           "zerolinecolor": "white",
           "zerolinewidth": 2
          }
         }
        },
        "title": {
         "text": "SPY (SP 500) Stock Price"
        },
        "yaxis": {
         "title": {
          "text": "Stock price"
         }
        }
       }
      },
      "text/html": [
       "<div>                            <div id=\"8433fcf6-6f99-4dda-8842-6221a79d2502\" class=\"plotly-graph-div\" style=\"height:525px; width:100%;\"></div>            <script type=\"text/javascript\">                require([\"plotly\"], function(Plotly) {                    window.PLOTLYENV=window.PLOTLYENV || {};                                    if (document.getElementById(\"8433fcf6-6f99-4dda-8842-6221a79d2502\")) {                    Plotly.newPlot(                        \"8433fcf6-6f99-4dda-8842-6221a79d2502\",                        [{\"close\":[469.02,469.41,469.67,469.63,469.68,470.18,469.3,469.39,469.54,469.54,469.33,468.86,469.23,469.52,469.71,469.56,469.35,469.35,469.86,469.77,469.84,470.05,469.94,470.08,469.92,470.09,470.08,469.97,469.91,469.97,470.03,470.12,470.46,470.26,470.38,470.42,470.56,470.64,470.42,470.33,470.53,470.31,470.31,470.36,470.1,469.96,469.87,469.21,469.24,468.86,468.99,468.99,469.37,469.54,469.51,469.67,469.69,469.71,469.77,469.42,469.26,469.27,469.39,469.37,469.55,469.4,469.29,469.37,469.12,469.07,469.18,469.22,469.25,469.14,468.9,469.08,468.78,468.91,468.89],\"high\":[469.76,469.5,469.67,469.86,469.73,470.21,470.21,469.53,469.54,469.64,469.58,469.43,469.26,469.54,469.81,469.77,469.71,469.62,469.86,469.93,469.94,470.13,470.11,470.09,470.19,470.2,470.19,470.19,470.05,470.05,470.09,470.19,470.47,470.46,470.39,470.44,470.6,470.94,470.66,470.44,470.57,470.56,470.38,470.44,470.43,470.21,470.01,469.89,469.4,469.28,469.01,469.01,469.37,469.55,469.63,469.68,469.81,469.85,469.85,469.83,469.6,469.38,469.48,469.49,469.58,469.57,469.54,469.44,469.39,469.14,469.2,469.28,469.29,469.37,469.15,469.14,469.18,469.1,468.89],\"low\":[468.71,469.02,469.12,469.21,469.35,469.57,469.26,469.03,469.08,469.2,469.23,468.81,468.8,469.03,469.46,469.31,469.09,469.32,469.32,469.65,469.72,469.83,469.86,469.81,469.87,469.92,469.98,469.94,469.81,469.83,469.97,470.03,470.11,470.18,470.17,470.36,470.41,470.56,470.24,470.18,470.29,470.31,470.17,470.31,469.93,469.74,469.8,469.2,469.11,468.7,468.5,468.73,468.98,469.32,469.43,469.49,469.55,469.61,469.68,469.42,469.1,469.17,469.21,469.29,469.3,469.34,469.29,469.18,469.07,468.89,468.96,469.04,469.14,469.06,468.88,468.69,468.67,468.66,468.89],\"open\":[469.61,469.03,469.39,469.67,469.64,469.68,470.18,469.31,469.39,469.54,469.54,469.33,468.85,469.23,469.52,469.71,469.57,469.35,469.35,469.86,469.76,469.84,470.06,469.95,470.1,469.93,470.1,470.09,469.96,469.9,469.97,470.03,470.12,470.45,470.26,470.38,470.42,470.56,470.66,470.42,470.32,470.54,470.32,470.31,470.37,470.09,469.96,469.89,469.2,469.24,468.86,468.99,468.99,469.36,469.53,469.51,469.66,469.69,469.73,469.78,469.44,469.25,469.27,469.39,469.37,469.56,469.39,469.3,469.39,469.11,469.07,469.19,469.21,469.26,469.14,468.9,469.07,468.78,468.89],\"x\":[\"2021-11-19T09:30:00-05:00\",\"2021-11-19T09:35:00-05:00\",\"2021-11-19T09:40:00-05:00\",\"2021-11-19T09:45:00-05:00\",\"2021-11-19T09:50:00-05:00\",\"2021-11-19T09:55:00-05:00\",\"2021-11-19T10:00:00-05:00\",\"2021-11-19T10:05:00-05:00\",\"2021-11-19T10:10:00-05:00\",\"2021-11-19T10:15:00-05:00\",\"2021-11-19T10:20:00-05:00\",\"2021-11-19T10:25:00-05:00\",\"2021-11-19T10:30:00-05:00\",\"2021-11-19T10:35:00-05:00\",\"2021-11-19T10:40:00-05:00\",\"2021-11-19T10:45:00-05:00\",\"2021-11-19T10:50:00-05:00\",\"2021-11-19T10:55:00-05:00\",\"2021-11-19T11:00:00-05:00\",\"2021-11-19T11:05:00-05:00\",\"2021-11-19T11:10:00-05:00\",\"2021-11-19T11:15:00-05:00\",\"2021-11-19T11:20:00-05:00\",\"2021-11-19T11:25:00-05:00\",\"2021-11-19T11:30:00-05:00\",\"2021-11-19T11:35:00-05:00\",\"2021-11-19T11:40:00-05:00\",\"2021-11-19T11:45:00-05:00\",\"2021-11-19T11:50:00-05:00\",\"2021-11-19T11:55:00-05:00\",\"2021-11-19T12:00:00-05:00\",\"2021-11-19T12:05:00-05:00\",\"2021-11-19T12:10:00-05:00\",\"2021-11-19T12:15:00-05:00\",\"2021-11-19T12:20:00-05:00\",\"2021-11-19T12:25:00-05:00\",\"2021-11-19T12:30:00-05:00\",\"2021-11-19T12:35:00-05:00\",\"2021-11-19T12:40:00-05:00\",\"2021-11-19T12:45:00-05:00\",\"2021-11-19T12:50:00-05:00\",\"2021-11-19T12:55:00-05:00\",\"2021-11-19T13:00:00-05:00\",\"2021-11-19T13:05:00-05:00\",\"2021-11-19T13:10:00-05:00\",\"2021-11-19T13:15:00-05:00\",\"2021-11-19T13:20:00-05:00\",\"2021-11-19T13:25:00-05:00\",\"2021-11-19T13:30:00-05:00\",\"2021-11-19T13:35:00-05:00\",\"2021-11-19T13:40:00-05:00\",\"2021-11-19T13:45:00-05:00\",\"2021-11-19T13:50:00-05:00\",\"2021-11-19T13:55:00-05:00\",\"2021-11-19T14:00:00-05:00\",\"2021-11-19T14:05:00-05:00\",\"2021-11-19T14:10:00-05:00\",\"2021-11-19T14:15:00-05:00\",\"2021-11-19T14:20:00-05:00\",\"2021-11-19T14:25:00-05:00\",\"2021-11-19T14:30:00-05:00\",\"2021-11-19T14:35:00-05:00\",\"2021-11-19T14:40:00-05:00\",\"2021-11-19T14:45:00-05:00\",\"2021-11-19T14:50:00-05:00\",\"2021-11-19T14:55:00-05:00\",\"2021-11-19T15:00:00-05:00\",\"2021-11-19T15:05:00-05:00\",\"2021-11-19T15:10:00-05:00\",\"2021-11-19T15:15:00-05:00\",\"2021-11-19T15:20:00-05:00\",\"2021-11-19T15:25:00-05:00\",\"2021-11-19T15:30:00-05:00\",\"2021-11-19T15:35:00-05:00\",\"2021-11-19T15:40:00-05:00\",\"2021-11-19T15:45:00-05:00\",\"2021-11-19T15:50:00-05:00\",\"2021-11-19T15:55:00-05:00\",\"2021-11-19T16:00:00-05:00\"],\"type\":\"candlestick\"}],                        {\"template\":{\"data\":{\"bar\":[{\"error_x\":{\"color\":\"#2a3f5f\"},\"error_y\":{\"color\":\"#2a3f5f\"},\"marker\":{\"line\":{\"color\":\"#E5ECF6\",\"width\":0.5},\"pattern\":{\"fillmode\":\"overlay\",\"size\":10,\"solidity\":0.2}},\"type\":\"bar\"}],\"barpolar\":[{\"marker\":{\"line\":{\"color\":\"#E5ECF6\",\"width\":0.5},\"pattern\":{\"fillmode\":\"overlay\",\"size\":10,\"solidity\":0.2}},\"type\":\"barpolar\"}],\"carpet\":[{\"aaxis\":{\"endlinecolor\":\"#2a3f5f\",\"gridcolor\":\"white\",\"linecolor\":\"white\",\"minorgridcolor\":\"white\",\"startlinecolor\":\"#2a3f5f\"},\"baxis\":{\"endlinecolor\":\"#2a3f5f\",\"gridcolor\":\"white\",\"linecolor\":\"white\",\"minorgridcolor\":\"white\",\"startlinecolor\":\"#2a3f5f\"},\"type\":\"carpet\"}],\"choropleth\":[{\"colorbar\":{\"outlinewidth\":0,\"ticks\":\"\"},\"type\":\"choropleth\"}],\"contour\":[{\"colorbar\":{\"outlinewidth\":0,\"ticks\":\"\"},\"colorscale\":[[0.0,\"#0d0887\"],[0.1111111111111111,\"#46039f\"],[0.2222222222222222,\"#7201a8\"],[0.3333333333333333,\"#9c179e\"],[0.4444444444444444,\"#bd3786\"],[0.5555555555555556,\"#d8576b\"],[0.6666666666666666,\"#ed7953\"],[0.7777777777777778,\"#fb9f3a\"],[0.8888888888888888,\"#fdca26\"],[1.0,\"#f0f921\"]],\"type\":\"contour\"}],\"contourcarpet\":[{\"colorbar\":{\"outlinewidth\":0,\"ticks\":\"\"},\"type\":\"contourcarpet\"}],\"heatmap\":[{\"colorbar\":{\"outlinewidth\":0,\"ticks\":\"\"},\"colorscale\":[[0.0,\"#0d0887\"],[0.1111111111111111,\"#46039f\"],[0.2222222222222222,\"#7201a8\"],[0.3333333333333333,\"#9c179e\"],[0.4444444444444444,\"#bd3786\"],[0.5555555555555556,\"#d8576b\"],[0.6666666666666666,\"#ed7953\"],[0.7777777777777778,\"#fb9f3a\"],[0.8888888888888888,\"#fdca26\"],[1.0,\"#f0f921\"]],\"type\":\"heatmap\"}],\"heatmapgl\":[{\"colorbar\":{\"outlinewidth\":0,\"ticks\":\"\"},\"colorscale\":[[0.0,\"#0d0887\"],[0.1111111111111111,\"#46039f\"],[0.2222222222222222,\"#7201a8\"],[0.3333333333333333,\"#9c179e\"],[0.4444444444444444,\"#bd3786\"],[0.5555555555555556,\"#d8576b\"],[0.6666666666666666,\"#ed7953\"],[0.7777777777777778,\"#fb9f3a\"],[0.8888888888888888,\"#fdca26\"],[1.0,\"#f0f921\"]],\"type\":\"heatmapgl\"}],\"histogram\":[{\"marker\":{\"pattern\":{\"fillmode\":\"overlay\",\"size\":10,\"solidity\":0.2}},\"type\":\"histogram\"}],\"histogram2d\":[{\"colorbar\":{\"outlinewidth\":0,\"ticks\":\"\"},\"colorscale\":[[0.0,\"#0d0887\"],[0.1111111111111111,\"#46039f\"],[0.2222222222222222,\"#7201a8\"],[0.3333333333333333,\"#9c179e\"],[0.4444444444444444,\"#bd3786\"],[0.5555555555555556,\"#d8576b\"],[0.6666666666666666,\"#ed7953\"],[0.7777777777777778,\"#fb9f3a\"],[0.8888888888888888,\"#fdca26\"],[1.0,\"#f0f921\"]],\"type\":\"histogram2d\"}],\"histogram2dcontour\":[{\"colorbar\":{\"outlinewidth\":0,\"ticks\":\"\"},\"colorscale\":[[0.0,\"#0d0887\"],[0.1111111111111111,\"#46039f\"],[0.2222222222222222,\"#7201a8\"],[0.3333333333333333,\"#9c179e\"],[0.4444444444444444,\"#bd3786\"],[0.5555555555555556,\"#d8576b\"],[0.6666666666666666,\"#ed7953\"],[0.7777777777777778,\"#fb9f3a\"],[0.8888888888888888,\"#fdca26\"],[1.0,\"#f0f921\"]],\"type\":\"histogram2dcontour\"}],\"mesh3d\":[{\"colorbar\":{\"outlinewidth\":0,\"ticks\":\"\"},\"type\":\"mesh3d\"}],\"parcoords\":[{\"line\":{\"colorbar\":{\"outlinewidth\":0,\"ticks\":\"\"}},\"type\":\"parcoords\"}],\"pie\":[{\"automargin\":true,\"type\":\"pie\"}],\"scatter\":[{\"marker\":{\"colorbar\":{\"outlinewidth\":0,\"ticks\":\"\"}},\"type\":\"scatter\"}],\"scatter3d\":[{\"line\":{\"colorbar\":{\"outlinewidth\":0,\"ticks\":\"\"}},\"marker\":{\"colorbar\":{\"outlinewidth\":0,\"ticks\":\"\"}},\"type\":\"scatter3d\"}],\"scattercarpet\":[{\"marker\":{\"colorbar\":{\"outlinewidth\":0,\"ticks\":\"\"}},\"type\":\"scattercarpet\"}],\"scattergeo\":[{\"marker\":{\"colorbar\":{\"outlinewidth\":0,\"ticks\":\"\"}},\"type\":\"scattergeo\"}],\"scattergl\":[{\"marker\":{\"colorbar\":{\"outlinewidth\":0,\"ticks\":\"\"}},\"type\":\"scattergl\"}],\"scattermapbox\":[{\"marker\":{\"colorbar\":{\"outlinewidth\":0,\"ticks\":\"\"}},\"type\":\"scattermapbox\"}],\"scatterpolar\":[{\"marker\":{\"colorbar\":{\"outlinewidth\":0,\"ticks\":\"\"}},\"type\":\"scatterpolar\"}],\"scatterpolargl\":[{\"marker\":{\"colorbar\":{\"outlinewidth\":0,\"ticks\":\"\"}},\"type\":\"scatterpolargl\"}],\"scatterternary\":[{\"marker\":{\"colorbar\":{\"outlinewidth\":0,\"ticks\":\"\"}},\"type\":\"scatterternary\"}],\"surface\":[{\"colorbar\":{\"outlinewidth\":0,\"ticks\":\"\"},\"colorscale\":[[0.0,\"#0d0887\"],[0.1111111111111111,\"#46039f\"],[0.2222222222222222,\"#7201a8\"],[0.3333333333333333,\"#9c179e\"],[0.4444444444444444,\"#bd3786\"],[0.5555555555555556,\"#d8576b\"],[0.6666666666666666,\"#ed7953\"],[0.7777777777777778,\"#fb9f3a\"],[0.8888888888888888,\"#fdca26\"],[1.0,\"#f0f921\"]],\"type\":\"surface\"}],\"table\":[{\"cells\":{\"fill\":{\"color\":\"#EBF0F8\"},\"line\":{\"color\":\"white\"}},\"header\":{\"fill\":{\"color\":\"#C8D4E3\"},\"line\":{\"color\":\"white\"}},\"type\":\"table\"}]},\"layout\":{\"annotationdefaults\":{\"arrowcolor\":\"#2a3f5f\",\"arrowhead\":0,\"arrowwidth\":1},\"autotypenumbers\":\"strict\",\"coloraxis\":{\"colorbar\":{\"outlinewidth\":0,\"ticks\":\"\"}},\"colorscale\":{\"diverging\":[[0,\"#8e0152\"],[0.1,\"#c51b7d\"],[0.2,\"#de77ae\"],[0.3,\"#f1b6da\"],[0.4,\"#fde0ef\"],[0.5,\"#f7f7f7\"],[0.6,\"#e6f5d0\"],[0.7,\"#b8e186\"],[0.8,\"#7fbc41\"],[0.9,\"#4d9221\"],[1,\"#276419\"]],\"sequential\":[[0.0,\"#0d0887\"],[0.1111111111111111,\"#46039f\"],[0.2222222222222222,\"#7201a8\"],[0.3333333333333333,\"#9c179e\"],[0.4444444444444444,\"#bd3786\"],[0.5555555555555556,\"#d8576b\"],[0.6666666666666666,\"#ed7953\"],[0.7777777777777778,\"#fb9f3a\"],[0.8888888888888888,\"#fdca26\"],[1.0,\"#f0f921\"]],\"sequentialminus\":[[0.0,\"#0d0887\"],[0.1111111111111111,\"#46039f\"],[0.2222222222222222,\"#7201a8\"],[0.3333333333333333,\"#9c179e\"],[0.4444444444444444,\"#bd3786\"],[0.5555555555555556,\"#d8576b\"],[0.6666666666666666,\"#ed7953\"],[0.7777777777777778,\"#fb9f3a\"],[0.8888888888888888,\"#fdca26\"],[1.0,\"#f0f921\"]]},\"colorway\":[\"#636efa\",\"#EF553B\",\"#00cc96\",\"#ab63fa\",\"#FFA15A\",\"#19d3f3\",\"#FF6692\",\"#B6E880\",\"#FF97FF\",\"#FECB52\"],\"font\":{\"color\":\"#2a3f5f\"},\"geo\":{\"bgcolor\":\"white\",\"lakecolor\":\"white\",\"landcolor\":\"#E5ECF6\",\"showlakes\":true,\"showland\":true,\"subunitcolor\":\"white\"},\"hoverlabel\":{\"align\":\"left\"},\"hovermode\":\"closest\",\"mapbox\":{\"style\":\"light\"},\"paper_bgcolor\":\"white\",\"plot_bgcolor\":\"#E5ECF6\",\"polar\":{\"angularaxis\":{\"gridcolor\":\"white\",\"linecolor\":\"white\",\"ticks\":\"\"},\"bgcolor\":\"#E5ECF6\",\"radialaxis\":{\"gridcolor\":\"white\",\"linecolor\":\"white\",\"ticks\":\"\"}},\"scene\":{\"xaxis\":{\"backgroundcolor\":\"#E5ECF6\",\"gridcolor\":\"white\",\"gridwidth\":2,\"linecolor\":\"white\",\"showbackground\":true,\"ticks\":\"\",\"zerolinecolor\":\"white\"},\"yaxis\":{\"backgroundcolor\":\"#E5ECF6\",\"gridcolor\":\"white\",\"gridwidth\":2,\"linecolor\":\"white\",\"showbackground\":true,\"ticks\":\"\",\"zerolinecolor\":\"white\"},\"zaxis\":{\"backgroundcolor\":\"#E5ECF6\",\"gridcolor\":\"white\",\"gridwidth\":2,\"linecolor\":\"white\",\"showbackground\":true,\"ticks\":\"\",\"zerolinecolor\":\"white\"}},\"shapedefaults\":{\"line\":{\"color\":\"#2a3f5f\"}},\"ternary\":{\"aaxis\":{\"gridcolor\":\"white\",\"linecolor\":\"white\",\"ticks\":\"\"},\"baxis\":{\"gridcolor\":\"white\",\"linecolor\":\"white\",\"ticks\":\"\"},\"bgcolor\":\"#E5ECF6\",\"caxis\":{\"gridcolor\":\"white\",\"linecolor\":\"white\",\"ticks\":\"\"}},\"title\":{\"x\":0.05},\"xaxis\":{\"automargin\":true,\"gridcolor\":\"white\",\"linecolor\":\"white\",\"ticks\":\"\",\"title\":{\"standoff\":15},\"zerolinecolor\":\"white\",\"zerolinewidth\":2},\"yaxis\":{\"automargin\":true,\"gridcolor\":\"white\",\"linecolor\":\"white\",\"ticks\":\"\",\"title\":{\"standoff\":15},\"zerolinecolor\":\"white\",\"zerolinewidth\":2}}},\"title\":{\"text\":\"SPY (SP 500) Stock Price\"},\"yaxis\":{\"title\":{\"text\":\"Stock price\"}}},                        {\"responsive\": true}                    ).then(function(){\n",
       "                            \n",
       "var gd = document.getElementById('8433fcf6-6f99-4dda-8842-6221a79d2502');\n",
       "var x = new MutationObserver(function (mutations, observer) {{\n",
       "        var display = window.getComputedStyle(gd).display;\n",
       "        if (!display || display === 'none') {{\n",
       "            console.log([gd, 'removed!']);\n",
       "            Plotly.purge(gd);\n",
       "            observer.disconnect();\n",
       "        }}\n",
       "}});\n",
       "\n",
       "// Listen for the removal of the full notebook cells\n",
       "var notebookContainer = gd.closest('#notebook-container');\n",
       "if (notebookContainer) {{\n",
       "    x.observe(notebookContainer, {childList: true});\n",
       "}}\n",
       "\n",
       "// Listen for the clearing of the current output cell\n",
       "var outputEl = gd.closest('.output');\n",
       "if (outputEl) {{\n",
       "    x.observe(outputEl, {childList: true});\n",
       "}}\n",
       "\n",
       "                        })                };                });            </script>        </div>"
      ]
     },
     "metadata": {},
     "output_type": "display_data"
    }
   ],
   "source": [
    "spy_chart = go.Candlestick(x=df.index,open = df[('SPY','Open')],high = df[('SPY','High')],low = df[('SPY','Low')],close = df[('SPY','Close')])\n",
    "spy_fig = go.Figure(data=[spy_chart])\n",
    "spy_fig.update_layout(\n",
    "    title='SPY (SP 500) Stock Price',\n",
    "    yaxis_title='Stock price')\n",
    "spy_fig.show()"
   ]
  },
  {
   "cell_type": "code",
   "execution_count": 71,
   "id": "67e09303",
   "metadata": {},
   "outputs": [
    {
     "data": {
      "application/vnd.plotly.v1+json": {
       "config": {
        "plotlyServerURL": "https://plot.ly"
       },
       "data": [
        {
         "close": [
          1094.53,
          1096.15,
          1106.68,
          1105.38,
          1103.2,
          1106.33,
          1106.31,
          1102.26,
          1101.13,
          1101,
          1101.06,
          1098.72,
          1097.55,
          1100.52,
          1103.21,
          1104.45,
          1103.87,
          1105.49,
          1108.52,
          1107.44,
          1106.81,
          1104.68,
          1104.88,
          1106.07,
          1104.57,
          1105,
          1104.56,
          1100.77,
          1101.34,
          1102.11,
          1101.04,
          1102.5,
          1101.99,
          1104.41,
          1106.25,
          1106.18,
          1107.87,
          1106.99,
          1107.56,
          1106.25,
          1106.72,
          1107.26,
          1107.69,
          1116.14,
          1114.8,
          1113.65,
          1114.81,
          1114.17,
          1117.1,
          1117.53,
          1117.25,
          1117.46,
          1121.19,
          1119.17,
          1118.55,
          1118.04,
          1119.94,
          1122.98,
          1125.1,
          1123.7,
          1124.05,
          1124.29,
          1128.37,
          1135.27,
          1138.24,
          1133.5,
          1131.67,
          1135.33,
          1136.28,
          1135.75,
          1137.64,
          1137.75,
          1131.85,
          1129.4,
          1132.85,
          1131,
          1134.49,
          1137.12,
          1137.06
         ],
         "high": [
          1104.25,
          1098,
          1109,
          1110,
          1106.78,
          1106.75,
          1108.2,
          1107.19,
          1102.56,
          1102.65,
          1104.82,
          1102.28,
          1100.52,
          1101.86,
          1103.63,
          1106.74,
          1105.38,
          1105.5,
          1108.56,
          1109.36,
          1108,
          1107.32,
          1106,
          1106.26,
          1106.74,
          1106,
          1105.4,
          1105.6,
          1102.43,
          1103.22,
          1102.74,
          1102.8,
          1104.26,
          1105.56,
          1106.25,
          1108.4,
          1108.8,
          1109.63,
          1107.56,
          1108.08,
          1107.25,
          1108.25,
          1107.7,
          1117.77,
          1116.77,
          1118.65,
          1115.64,
          1117.44,
          1117.84,
          1122.36,
          1117.9,
          1117.9,
          1121.75,
          1121.8,
          1119.77,
          1119.6,
          1120.43,
          1124.25,
          1126.5,
          1125.88,
          1124.38,
          1126,
          1130.71,
          1135.92,
          1138.49,
          1138.72,
          1133.8,
          1135.79,
          1136.61,
          1138.33,
          1137.88,
          1138.65,
          1138.57,
          1132.02,
          1134.05,
          1133.75,
          1134.5,
          1138,
          1137.06
         ],
         "low": [
          1093.15,
          1093.75,
          1096,
          1103,
          1100.38,
          1100.52,
          1103.9,
          1101.3,
          1098.75,
          1099.62,
          1100.55,
          1096.83,
          1095.99,
          1097.01,
          1100.01,
          1101.7,
          1102.09,
          1102.12,
          1104.84,
          1106.21,
          1105.05,
          1103.68,
          1104,
          1104.8,
          1103.15,
          1103.36,
          1104.13,
          1100.52,
          1100.63,
          1099.86,
          1100.23,
          1100.88,
          1101.43,
          1101.03,
          1103.18,
          1105.4,
          1105,
          1106.37,
          1104.53,
          1105.69,
          1105.07,
          1106.5,
          1106.12,
          1107.27,
          1112.57,
          1112.18,
          1113.12,
          1113.6,
          1113.75,
          1117.07,
          1113.4,
          1114.72,
          1117.03,
          1117.03,
          1117.5,
          1117.55,
          1117.78,
          1119.44,
          1121.55,
          1122.56,
          1122.04,
          1123.59,
          1122.83,
          1127.26,
          1133.25,
          1132.82,
          1129.25,
          1129.4,
          1133.08,
          1133.52,
          1135.3,
          1135.8,
          1131.05,
          1127,
          1128.87,
          1130.04,
          1127.99,
          1134.1,
          1137.06
         ],
         "open": [
          1098.87,
          1096,
          1096,
          1107,
          1105.5,
          1104,
          1106.6,
          1106.24,
          1102.28,
          1101.16,
          1101,
          1100.91,
          1099.07,
          1097.77,
          1100.74,
          1103.14,
          1104.38,
          1103.77,
          1105.32,
          1108.33,
          1107.89,
          1107.11,
          1104.65,
          1105.19,
          1106.15,
          1104.32,
          1105,
          1104.77,
          1100.63,
          1101.2,
          1102.12,
          1101.24,
          1102.52,
          1101.79,
          1104.22,
          1106.25,
          1106.19,
          1107.64,
          1106.94,
          1107.81,
          1106.53,
          1107.08,
          1107.3,
          1107.43,
          1116.19,
          1114.34,
          1113.82,
          1114.64,
          1114.26,
          1117.27,
          1117.5,
          1117.6,
          1117.9,
          1121.2,
          1119.65,
          1118.41,
          1118.05,
          1119.44,
          1122.67,
          1124.8,
          1123.61,
          1124.3,
          1124,
          1128.37,
          1135.3,
          1138.36,
          1133.5,
          1131.77,
          1135.3,
          1136.17,
          1135.67,
          1137.76,
          1137.95,
          1131.49,
          1129.92,
          1133.19,
          1131.02,
          1134.26,
          1137.06
         ],
         "type": "candlestick",
         "x": [
          "2021-11-19T09:30:00-05:00",
          "2021-11-19T09:35:00-05:00",
          "2021-11-19T09:40:00-05:00",
          "2021-11-19T09:45:00-05:00",
          "2021-11-19T09:50:00-05:00",
          "2021-11-19T09:55:00-05:00",
          "2021-11-19T10:00:00-05:00",
          "2021-11-19T10:05:00-05:00",
          "2021-11-19T10:10:00-05:00",
          "2021-11-19T10:15:00-05:00",
          "2021-11-19T10:20:00-05:00",
          "2021-11-19T10:25:00-05:00",
          "2021-11-19T10:30:00-05:00",
          "2021-11-19T10:35:00-05:00",
          "2021-11-19T10:40:00-05:00",
          "2021-11-19T10:45:00-05:00",
          "2021-11-19T10:50:00-05:00",
          "2021-11-19T10:55:00-05:00",
          "2021-11-19T11:00:00-05:00",
          "2021-11-19T11:05:00-05:00",
          "2021-11-19T11:10:00-05:00",
          "2021-11-19T11:15:00-05:00",
          "2021-11-19T11:20:00-05:00",
          "2021-11-19T11:25:00-05:00",
          "2021-11-19T11:30:00-05:00",
          "2021-11-19T11:35:00-05:00",
          "2021-11-19T11:40:00-05:00",
          "2021-11-19T11:45:00-05:00",
          "2021-11-19T11:50:00-05:00",
          "2021-11-19T11:55:00-05:00",
          "2021-11-19T12:00:00-05:00",
          "2021-11-19T12:05:00-05:00",
          "2021-11-19T12:10:00-05:00",
          "2021-11-19T12:15:00-05:00",
          "2021-11-19T12:20:00-05:00",
          "2021-11-19T12:25:00-05:00",
          "2021-11-19T12:30:00-05:00",
          "2021-11-19T12:35:00-05:00",
          "2021-11-19T12:40:00-05:00",
          "2021-11-19T12:45:00-05:00",
          "2021-11-19T12:50:00-05:00",
          "2021-11-19T12:55:00-05:00",
          "2021-11-19T13:00:00-05:00",
          "2021-11-19T13:05:00-05:00",
          "2021-11-19T13:10:00-05:00",
          "2021-11-19T13:15:00-05:00",
          "2021-11-19T13:20:00-05:00",
          "2021-11-19T13:25:00-05:00",
          "2021-11-19T13:30:00-05:00",
          "2021-11-19T13:35:00-05:00",
          "2021-11-19T13:40:00-05:00",
          "2021-11-19T13:45:00-05:00",
          "2021-11-19T13:50:00-05:00",
          "2021-11-19T13:55:00-05:00",
          "2021-11-19T14:00:00-05:00",
          "2021-11-19T14:05:00-05:00",
          "2021-11-19T14:10:00-05:00",
          "2021-11-19T14:15:00-05:00",
          "2021-11-19T14:20:00-05:00",
          "2021-11-19T14:25:00-05:00",
          "2021-11-19T14:30:00-05:00",
          "2021-11-19T14:35:00-05:00",
          "2021-11-19T14:40:00-05:00",
          "2021-11-19T14:45:00-05:00",
          "2021-11-19T14:50:00-05:00",
          "2021-11-19T14:55:00-05:00",
          "2021-11-19T15:00:00-05:00",
          "2021-11-19T15:05:00-05:00",
          "2021-11-19T15:10:00-05:00",
          "2021-11-19T15:15:00-05:00",
          "2021-11-19T15:20:00-05:00",
          "2021-11-19T15:25:00-05:00",
          "2021-11-19T15:30:00-05:00",
          "2021-11-19T15:35:00-05:00",
          "2021-11-19T15:40:00-05:00",
          "2021-11-19T15:45:00-05:00",
          "2021-11-19T15:50:00-05:00",
          "2021-11-19T15:55:00-05:00",
          "2021-11-19T16:00:00-05:00"
         ]
        }
       ],
       "layout": {
        "template": {
         "data": {
          "bar": [
           {
            "error_x": {
             "color": "#2a3f5f"
            },
            "error_y": {
             "color": "#2a3f5f"
            },
            "marker": {
             "line": {
              "color": "#E5ECF6",
              "width": 0.5
             },
             "pattern": {
              "fillmode": "overlay",
              "size": 10,
              "solidity": 0.2
             }
            },
            "type": "bar"
           }
          ],
          "barpolar": [
           {
            "marker": {
             "line": {
              "color": "#E5ECF6",
              "width": 0.5
             },
             "pattern": {
              "fillmode": "overlay",
              "size": 10,
              "solidity": 0.2
             }
            },
            "type": "barpolar"
           }
          ],
          "carpet": [
           {
            "aaxis": {
             "endlinecolor": "#2a3f5f",
             "gridcolor": "white",
             "linecolor": "white",
             "minorgridcolor": "white",
             "startlinecolor": "#2a3f5f"
            },
            "baxis": {
             "endlinecolor": "#2a3f5f",
             "gridcolor": "white",
             "linecolor": "white",
             "minorgridcolor": "white",
             "startlinecolor": "#2a3f5f"
            },
            "type": "carpet"
           }
          ],
          "choropleth": [
           {
            "colorbar": {
             "outlinewidth": 0,
             "ticks": ""
            },
            "type": "choropleth"
           }
          ],
          "contour": [
           {
            "colorbar": {
             "outlinewidth": 0,
             "ticks": ""
            },
            "colorscale": [
             [
              0,
              "#0d0887"
             ],
             [
              0.1111111111111111,
              "#46039f"
             ],
             [
              0.2222222222222222,
              "#7201a8"
             ],
             [
              0.3333333333333333,
              "#9c179e"
             ],
             [
              0.4444444444444444,
              "#bd3786"
             ],
             [
              0.5555555555555556,
              "#d8576b"
             ],
             [
              0.6666666666666666,
              "#ed7953"
             ],
             [
              0.7777777777777778,
              "#fb9f3a"
             ],
             [
              0.8888888888888888,
              "#fdca26"
             ],
             [
              1,
              "#f0f921"
             ]
            ],
            "type": "contour"
           }
          ],
          "contourcarpet": [
           {
            "colorbar": {
             "outlinewidth": 0,
             "ticks": ""
            },
            "type": "contourcarpet"
           }
          ],
          "heatmap": [
           {
            "colorbar": {
             "outlinewidth": 0,
             "ticks": ""
            },
            "colorscale": [
             [
              0,
              "#0d0887"
             ],
             [
              0.1111111111111111,
              "#46039f"
             ],
             [
              0.2222222222222222,
              "#7201a8"
             ],
             [
              0.3333333333333333,
              "#9c179e"
             ],
             [
              0.4444444444444444,
              "#bd3786"
             ],
             [
              0.5555555555555556,
              "#d8576b"
             ],
             [
              0.6666666666666666,
              "#ed7953"
             ],
             [
              0.7777777777777778,
              "#fb9f3a"
             ],
             [
              0.8888888888888888,
              "#fdca26"
             ],
             [
              1,
              "#f0f921"
             ]
            ],
            "type": "heatmap"
           }
          ],
          "heatmapgl": [
           {
            "colorbar": {
             "outlinewidth": 0,
             "ticks": ""
            },
            "colorscale": [
             [
              0,
              "#0d0887"
             ],
             [
              0.1111111111111111,
              "#46039f"
             ],
             [
              0.2222222222222222,
              "#7201a8"
             ],
             [
              0.3333333333333333,
              "#9c179e"
             ],
             [
              0.4444444444444444,
              "#bd3786"
             ],
             [
              0.5555555555555556,
              "#d8576b"
             ],
             [
              0.6666666666666666,
              "#ed7953"
             ],
             [
              0.7777777777777778,
              "#fb9f3a"
             ],
             [
              0.8888888888888888,
              "#fdca26"
             ],
             [
              1,
              "#f0f921"
             ]
            ],
            "type": "heatmapgl"
           }
          ],
          "histogram": [
           {
            "marker": {
             "pattern": {
              "fillmode": "overlay",
              "size": 10,
              "solidity": 0.2
             }
            },
            "type": "histogram"
           }
          ],
          "histogram2d": [
           {
            "colorbar": {
             "outlinewidth": 0,
             "ticks": ""
            },
            "colorscale": [
             [
              0,
              "#0d0887"
             ],
             [
              0.1111111111111111,
              "#46039f"
             ],
             [
              0.2222222222222222,
              "#7201a8"
             ],
             [
              0.3333333333333333,
              "#9c179e"
             ],
             [
              0.4444444444444444,
              "#bd3786"
             ],
             [
              0.5555555555555556,
              "#d8576b"
             ],
             [
              0.6666666666666666,
              "#ed7953"
             ],
             [
              0.7777777777777778,
              "#fb9f3a"
             ],
             [
              0.8888888888888888,
              "#fdca26"
             ],
             [
              1,
              "#f0f921"
             ]
            ],
            "type": "histogram2d"
           }
          ],
          "histogram2dcontour": [
           {
            "colorbar": {
             "outlinewidth": 0,
             "ticks": ""
            },
            "colorscale": [
             [
              0,
              "#0d0887"
             ],
             [
              0.1111111111111111,
              "#46039f"
             ],
             [
              0.2222222222222222,
              "#7201a8"
             ],
             [
              0.3333333333333333,
              "#9c179e"
             ],
             [
              0.4444444444444444,
              "#bd3786"
             ],
             [
              0.5555555555555556,
              "#d8576b"
             ],
             [
              0.6666666666666666,
              "#ed7953"
             ],
             [
              0.7777777777777778,
              "#fb9f3a"
             ],
             [
              0.8888888888888888,
              "#fdca26"
             ],
             [
              1,
              "#f0f921"
             ]
            ],
            "type": "histogram2dcontour"
           }
          ],
          "mesh3d": [
           {
            "colorbar": {
             "outlinewidth": 0,
             "ticks": ""
            },
            "type": "mesh3d"
           }
          ],
          "parcoords": [
           {
            "line": {
             "colorbar": {
              "outlinewidth": 0,
              "ticks": ""
             }
            },
            "type": "parcoords"
           }
          ],
          "pie": [
           {
            "automargin": true,
            "type": "pie"
           }
          ],
          "scatter": [
           {
            "marker": {
             "colorbar": {
              "outlinewidth": 0,
              "ticks": ""
             }
            },
            "type": "scatter"
           }
          ],
          "scatter3d": [
           {
            "line": {
             "colorbar": {
              "outlinewidth": 0,
              "ticks": ""
             }
            },
            "marker": {
             "colorbar": {
              "outlinewidth": 0,
              "ticks": ""
             }
            },
            "type": "scatter3d"
           }
          ],
          "scattercarpet": [
           {
            "marker": {
             "colorbar": {
              "outlinewidth": 0,
              "ticks": ""
             }
            },
            "type": "scattercarpet"
           }
          ],
          "scattergeo": [
           {
            "marker": {
             "colorbar": {
              "outlinewidth": 0,
              "ticks": ""
             }
            },
            "type": "scattergeo"
           }
          ],
          "scattergl": [
           {
            "marker": {
             "colorbar": {
              "outlinewidth": 0,
              "ticks": ""
             }
            },
            "type": "scattergl"
           }
          ],
          "scattermapbox": [
           {
            "marker": {
             "colorbar": {
              "outlinewidth": 0,
              "ticks": ""
             }
            },
            "type": "scattermapbox"
           }
          ],
          "scatterpolar": [
           {
            "marker": {
             "colorbar": {
              "outlinewidth": 0,
              "ticks": ""
             }
            },
            "type": "scatterpolar"
           }
          ],
          "scatterpolargl": [
           {
            "marker": {
             "colorbar": {
              "outlinewidth": 0,
              "ticks": ""
             }
            },
            "type": "scatterpolargl"
           }
          ],
          "scatterternary": [
           {
            "marker": {
             "colorbar": {
              "outlinewidth": 0,
              "ticks": ""
             }
            },
            "type": "scatterternary"
           }
          ],
          "surface": [
           {
            "colorbar": {
             "outlinewidth": 0,
             "ticks": ""
            },
            "colorscale": [
             [
              0,
              "#0d0887"
             ],
             [
              0.1111111111111111,
              "#46039f"
             ],
             [
              0.2222222222222222,
              "#7201a8"
             ],
             [
              0.3333333333333333,
              "#9c179e"
             ],
             [
              0.4444444444444444,
              "#bd3786"
             ],
             [
              0.5555555555555556,
              "#d8576b"
             ],
             [
              0.6666666666666666,
              "#ed7953"
             ],
             [
              0.7777777777777778,
              "#fb9f3a"
             ],
             [
              0.8888888888888888,
              "#fdca26"
             ],
             [
              1,
              "#f0f921"
             ]
            ],
            "type": "surface"
           }
          ],
          "table": [
           {
            "cells": {
             "fill": {
              "color": "#EBF0F8"
             },
             "line": {
              "color": "white"
             }
            },
            "header": {
             "fill": {
              "color": "#C8D4E3"
             },
             "line": {
              "color": "white"
             }
            },
            "type": "table"
           }
          ]
         },
         "layout": {
          "annotationdefaults": {
           "arrowcolor": "#2a3f5f",
           "arrowhead": 0,
           "arrowwidth": 1
          },
          "autotypenumbers": "strict",
          "coloraxis": {
           "colorbar": {
            "outlinewidth": 0,
            "ticks": ""
           }
          },
          "colorscale": {
           "diverging": [
            [
             0,
             "#8e0152"
            ],
            [
             0.1,
             "#c51b7d"
            ],
            [
             0.2,
             "#de77ae"
            ],
            [
             0.3,
             "#f1b6da"
            ],
            [
             0.4,
             "#fde0ef"
            ],
            [
             0.5,
             "#f7f7f7"
            ],
            [
             0.6,
             "#e6f5d0"
            ],
            [
             0.7,
             "#b8e186"
            ],
            [
             0.8,
             "#7fbc41"
            ],
            [
             0.9,
             "#4d9221"
            ],
            [
             1,
             "#276419"
            ]
           ],
           "sequential": [
            [
             0,
             "#0d0887"
            ],
            [
             0.1111111111111111,
             "#46039f"
            ],
            [
             0.2222222222222222,
             "#7201a8"
            ],
            [
             0.3333333333333333,
             "#9c179e"
            ],
            [
             0.4444444444444444,
             "#bd3786"
            ],
            [
             0.5555555555555556,
             "#d8576b"
            ],
            [
             0.6666666666666666,
             "#ed7953"
            ],
            [
             0.7777777777777778,
             "#fb9f3a"
            ],
            [
             0.8888888888888888,
             "#fdca26"
            ],
            [
             1,
             "#f0f921"
            ]
           ],
           "sequentialminus": [
            [
             0,
             "#0d0887"
            ],
            [
             0.1111111111111111,
             "#46039f"
            ],
            [
             0.2222222222222222,
             "#7201a8"
            ],
            [
             0.3333333333333333,
             "#9c179e"
            ],
            [
             0.4444444444444444,
             "#bd3786"
            ],
            [
             0.5555555555555556,
             "#d8576b"
            ],
            [
             0.6666666666666666,
             "#ed7953"
            ],
            [
             0.7777777777777778,
             "#fb9f3a"
            ],
            [
             0.8888888888888888,
             "#fdca26"
            ],
            [
             1,
             "#f0f921"
            ]
           ]
          },
          "colorway": [
           "#636efa",
           "#EF553B",
           "#00cc96",
           "#ab63fa",
           "#FFA15A",
           "#19d3f3",
           "#FF6692",
           "#B6E880",
           "#FF97FF",
           "#FECB52"
          ],
          "font": {
           "color": "#2a3f5f"
          },
          "geo": {
           "bgcolor": "white",
           "lakecolor": "white",
           "landcolor": "#E5ECF6",
           "showlakes": true,
           "showland": true,
           "subunitcolor": "white"
          },
          "hoverlabel": {
           "align": "left"
          },
          "hovermode": "closest",
          "mapbox": {
           "style": "light"
          },
          "paper_bgcolor": "white",
          "plot_bgcolor": "#E5ECF6",
          "polar": {
           "angularaxis": {
            "gridcolor": "white",
            "linecolor": "white",
            "ticks": ""
           },
           "bgcolor": "#E5ECF6",
           "radialaxis": {
            "gridcolor": "white",
            "linecolor": "white",
            "ticks": ""
           }
          },
          "scene": {
           "xaxis": {
            "backgroundcolor": "#E5ECF6",
            "gridcolor": "white",
            "gridwidth": 2,
            "linecolor": "white",
            "showbackground": true,
            "ticks": "",
            "zerolinecolor": "white"
           },
           "yaxis": {
            "backgroundcolor": "#E5ECF6",
            "gridcolor": "white",
            "gridwidth": 2,
            "linecolor": "white",
            "showbackground": true,
            "ticks": "",
            "zerolinecolor": "white"
           },
           "zaxis": {
            "backgroundcolor": "#E5ECF6",
            "gridcolor": "white",
            "gridwidth": 2,
            "linecolor": "white",
            "showbackground": true,
            "ticks": "",
            "zerolinecolor": "white"
           }
          },
          "shapedefaults": {
           "line": {
            "color": "#2a3f5f"
           }
          },
          "ternary": {
           "aaxis": {
            "gridcolor": "white",
            "linecolor": "white",
            "ticks": ""
           },
           "baxis": {
            "gridcolor": "white",
            "linecolor": "white",
            "ticks": ""
           },
           "bgcolor": "#E5ECF6",
           "caxis": {
            "gridcolor": "white",
            "linecolor": "white",
            "ticks": ""
           }
          },
          "title": {
           "x": 0.05
          },
          "xaxis": {
           "automargin": true,
           "gridcolor": "white",
           "linecolor": "white",
           "ticks": "",
           "title": {
            "standoff": 15
           },
           "zerolinecolor": "white",
           "zerolinewidth": 2
          },
          "yaxis": {
           "automargin": true,
           "gridcolor": "white",
           "linecolor": "white",
           "ticks": "",
           "title": {
            "standoff": 15
           },
           "zerolinecolor": "white",
           "zerolinewidth": 2
          }
         }
        },
        "title": {
         "text": "Tesla Stock Price"
        },
        "yaxis": {
         "title": {
          "text": "Stock price"
         }
        }
       }
      },
      "text/html": [
       "<div>                            <div id=\"c87e186f-a591-4fa7-86fb-d881019b98b7\" class=\"plotly-graph-div\" style=\"height:525px; width:100%;\"></div>            <script type=\"text/javascript\">                require([\"plotly\"], function(Plotly) {                    window.PLOTLYENV=window.PLOTLYENV || {};                                    if (document.getElementById(\"c87e186f-a591-4fa7-86fb-d881019b98b7\")) {                    Plotly.newPlot(                        \"c87e186f-a591-4fa7-86fb-d881019b98b7\",                        [{\"close\":[1094.53,1096.15,1106.68,1105.38,1103.2,1106.33,1106.31,1102.26,1101.13,1101.0,1101.06,1098.72,1097.55,1100.52,1103.21,1104.45,1103.87,1105.49,1108.52,1107.44,1106.81,1104.68,1104.88,1106.07,1104.57,1105.0,1104.56,1100.77,1101.34,1102.11,1101.04,1102.5,1101.99,1104.41,1106.25,1106.18,1107.87,1106.99,1107.56,1106.25,1106.72,1107.26,1107.69,1116.14,1114.8,1113.65,1114.81,1114.17,1117.1,1117.53,1117.25,1117.46,1121.19,1119.17,1118.55,1118.04,1119.94,1122.98,1125.1,1123.7,1124.05,1124.29,1128.37,1135.27,1138.24,1133.5,1131.67,1135.33,1136.28,1135.75,1137.64,1137.75,1131.85,1129.4,1132.85,1131.0,1134.49,1137.12,1137.06],\"high\":[1104.25,1098.0,1109.0,1110.0,1106.78,1106.75,1108.2,1107.19,1102.56,1102.65,1104.82,1102.28,1100.52,1101.86,1103.63,1106.74,1105.38,1105.5,1108.56,1109.36,1108.0,1107.32,1106.0,1106.26,1106.74,1106.0,1105.4,1105.6,1102.43,1103.22,1102.74,1102.8,1104.26,1105.56,1106.25,1108.4,1108.8,1109.63,1107.56,1108.08,1107.25,1108.25,1107.7,1117.77,1116.77,1118.65,1115.64,1117.44,1117.84,1122.36,1117.9,1117.9,1121.75,1121.8,1119.77,1119.6,1120.43,1124.25,1126.5,1125.88,1124.38,1126.0,1130.71,1135.92,1138.49,1138.72,1133.8,1135.79,1136.61,1138.33,1137.88,1138.65,1138.57,1132.02,1134.05,1133.75,1134.5,1138.0,1137.06],\"low\":[1093.15,1093.75,1096.0,1103.0,1100.38,1100.52,1103.9,1101.3,1098.75,1099.62,1100.55,1096.83,1095.99,1097.01,1100.01,1101.7,1102.09,1102.12,1104.84,1106.21,1105.05,1103.68,1104.0,1104.8,1103.15,1103.36,1104.13,1100.52,1100.63,1099.86,1100.23,1100.88,1101.43,1101.03,1103.18,1105.4,1105.0,1106.37,1104.53,1105.69,1105.07,1106.5,1106.12,1107.27,1112.57,1112.18,1113.12,1113.6,1113.75,1117.07,1113.4,1114.72,1117.03,1117.03,1117.5,1117.55,1117.78,1119.44,1121.55,1122.56,1122.04,1123.59,1122.83,1127.26,1133.25,1132.82,1129.25,1129.4,1133.08,1133.52,1135.3,1135.8,1131.05,1127.0,1128.87,1130.04,1127.99,1134.1,1137.06],\"open\":[1098.87,1096.0,1096.0,1107.0,1105.5,1104.0,1106.6,1106.24,1102.28,1101.16,1101.0,1100.91,1099.07,1097.77,1100.74,1103.14,1104.38,1103.77,1105.32,1108.33,1107.89,1107.11,1104.65,1105.19,1106.15,1104.32,1105.0,1104.77,1100.63,1101.2,1102.12,1101.24,1102.52,1101.79,1104.22,1106.25,1106.19,1107.64,1106.94,1107.81,1106.53,1107.08,1107.3,1107.43,1116.19,1114.34,1113.82,1114.64,1114.26,1117.27,1117.5,1117.6,1117.9,1121.2,1119.65,1118.41,1118.05,1119.44,1122.67,1124.8,1123.61,1124.3,1124.0,1128.37,1135.3,1138.36,1133.5,1131.77,1135.3,1136.17,1135.67,1137.76,1137.95,1131.49,1129.92,1133.19,1131.02,1134.26,1137.06],\"x\":[\"2021-11-19T09:30:00-05:00\",\"2021-11-19T09:35:00-05:00\",\"2021-11-19T09:40:00-05:00\",\"2021-11-19T09:45:00-05:00\",\"2021-11-19T09:50:00-05:00\",\"2021-11-19T09:55:00-05:00\",\"2021-11-19T10:00:00-05:00\",\"2021-11-19T10:05:00-05:00\",\"2021-11-19T10:10:00-05:00\",\"2021-11-19T10:15:00-05:00\",\"2021-11-19T10:20:00-05:00\",\"2021-11-19T10:25:00-05:00\",\"2021-11-19T10:30:00-05:00\",\"2021-11-19T10:35:00-05:00\",\"2021-11-19T10:40:00-05:00\",\"2021-11-19T10:45:00-05:00\",\"2021-11-19T10:50:00-05:00\",\"2021-11-19T10:55:00-05:00\",\"2021-11-19T11:00:00-05:00\",\"2021-11-19T11:05:00-05:00\",\"2021-11-19T11:10:00-05:00\",\"2021-11-19T11:15:00-05:00\",\"2021-11-19T11:20:00-05:00\",\"2021-11-19T11:25:00-05:00\",\"2021-11-19T11:30:00-05:00\",\"2021-11-19T11:35:00-05:00\",\"2021-11-19T11:40:00-05:00\",\"2021-11-19T11:45:00-05:00\",\"2021-11-19T11:50:00-05:00\",\"2021-11-19T11:55:00-05:00\",\"2021-11-19T12:00:00-05:00\",\"2021-11-19T12:05:00-05:00\",\"2021-11-19T12:10:00-05:00\",\"2021-11-19T12:15:00-05:00\",\"2021-11-19T12:20:00-05:00\",\"2021-11-19T12:25:00-05:00\",\"2021-11-19T12:30:00-05:00\",\"2021-11-19T12:35:00-05:00\",\"2021-11-19T12:40:00-05:00\",\"2021-11-19T12:45:00-05:00\",\"2021-11-19T12:50:00-05:00\",\"2021-11-19T12:55:00-05:00\",\"2021-11-19T13:00:00-05:00\",\"2021-11-19T13:05:00-05:00\",\"2021-11-19T13:10:00-05:00\",\"2021-11-19T13:15:00-05:00\",\"2021-11-19T13:20:00-05:00\",\"2021-11-19T13:25:00-05:00\",\"2021-11-19T13:30:00-05:00\",\"2021-11-19T13:35:00-05:00\",\"2021-11-19T13:40:00-05:00\",\"2021-11-19T13:45:00-05:00\",\"2021-11-19T13:50:00-05:00\",\"2021-11-19T13:55:00-05:00\",\"2021-11-19T14:00:00-05:00\",\"2021-11-19T14:05:00-05:00\",\"2021-11-19T14:10:00-05:00\",\"2021-11-19T14:15:00-05:00\",\"2021-11-19T14:20:00-05:00\",\"2021-11-19T14:25:00-05:00\",\"2021-11-19T14:30:00-05:00\",\"2021-11-19T14:35:00-05:00\",\"2021-11-19T14:40:00-05:00\",\"2021-11-19T14:45:00-05:00\",\"2021-11-19T14:50:00-05:00\",\"2021-11-19T14:55:00-05:00\",\"2021-11-19T15:00:00-05:00\",\"2021-11-19T15:05:00-05:00\",\"2021-11-19T15:10:00-05:00\",\"2021-11-19T15:15:00-05:00\",\"2021-11-19T15:20:00-05:00\",\"2021-11-19T15:25:00-05:00\",\"2021-11-19T15:30:00-05:00\",\"2021-11-19T15:35:00-05:00\",\"2021-11-19T15:40:00-05:00\",\"2021-11-19T15:45:00-05:00\",\"2021-11-19T15:50:00-05:00\",\"2021-11-19T15:55:00-05:00\",\"2021-11-19T16:00:00-05:00\"],\"type\":\"candlestick\"}],                        {\"template\":{\"data\":{\"bar\":[{\"error_x\":{\"color\":\"#2a3f5f\"},\"error_y\":{\"color\":\"#2a3f5f\"},\"marker\":{\"line\":{\"color\":\"#E5ECF6\",\"width\":0.5},\"pattern\":{\"fillmode\":\"overlay\",\"size\":10,\"solidity\":0.2}},\"type\":\"bar\"}],\"barpolar\":[{\"marker\":{\"line\":{\"color\":\"#E5ECF6\",\"width\":0.5},\"pattern\":{\"fillmode\":\"overlay\",\"size\":10,\"solidity\":0.2}},\"type\":\"barpolar\"}],\"carpet\":[{\"aaxis\":{\"endlinecolor\":\"#2a3f5f\",\"gridcolor\":\"white\",\"linecolor\":\"white\",\"minorgridcolor\":\"white\",\"startlinecolor\":\"#2a3f5f\"},\"baxis\":{\"endlinecolor\":\"#2a3f5f\",\"gridcolor\":\"white\",\"linecolor\":\"white\",\"minorgridcolor\":\"white\",\"startlinecolor\":\"#2a3f5f\"},\"type\":\"carpet\"}],\"choropleth\":[{\"colorbar\":{\"outlinewidth\":0,\"ticks\":\"\"},\"type\":\"choropleth\"}],\"contour\":[{\"colorbar\":{\"outlinewidth\":0,\"ticks\":\"\"},\"colorscale\":[[0.0,\"#0d0887\"],[0.1111111111111111,\"#46039f\"],[0.2222222222222222,\"#7201a8\"],[0.3333333333333333,\"#9c179e\"],[0.4444444444444444,\"#bd3786\"],[0.5555555555555556,\"#d8576b\"],[0.6666666666666666,\"#ed7953\"],[0.7777777777777778,\"#fb9f3a\"],[0.8888888888888888,\"#fdca26\"],[1.0,\"#f0f921\"]],\"type\":\"contour\"}],\"contourcarpet\":[{\"colorbar\":{\"outlinewidth\":0,\"ticks\":\"\"},\"type\":\"contourcarpet\"}],\"heatmap\":[{\"colorbar\":{\"outlinewidth\":0,\"ticks\":\"\"},\"colorscale\":[[0.0,\"#0d0887\"],[0.1111111111111111,\"#46039f\"],[0.2222222222222222,\"#7201a8\"],[0.3333333333333333,\"#9c179e\"],[0.4444444444444444,\"#bd3786\"],[0.5555555555555556,\"#d8576b\"],[0.6666666666666666,\"#ed7953\"],[0.7777777777777778,\"#fb9f3a\"],[0.8888888888888888,\"#fdca26\"],[1.0,\"#f0f921\"]],\"type\":\"heatmap\"}],\"heatmapgl\":[{\"colorbar\":{\"outlinewidth\":0,\"ticks\":\"\"},\"colorscale\":[[0.0,\"#0d0887\"],[0.1111111111111111,\"#46039f\"],[0.2222222222222222,\"#7201a8\"],[0.3333333333333333,\"#9c179e\"],[0.4444444444444444,\"#bd3786\"],[0.5555555555555556,\"#d8576b\"],[0.6666666666666666,\"#ed7953\"],[0.7777777777777778,\"#fb9f3a\"],[0.8888888888888888,\"#fdca26\"],[1.0,\"#f0f921\"]],\"type\":\"heatmapgl\"}],\"histogram\":[{\"marker\":{\"pattern\":{\"fillmode\":\"overlay\",\"size\":10,\"solidity\":0.2}},\"type\":\"histogram\"}],\"histogram2d\":[{\"colorbar\":{\"outlinewidth\":0,\"ticks\":\"\"},\"colorscale\":[[0.0,\"#0d0887\"],[0.1111111111111111,\"#46039f\"],[0.2222222222222222,\"#7201a8\"],[0.3333333333333333,\"#9c179e\"],[0.4444444444444444,\"#bd3786\"],[0.5555555555555556,\"#d8576b\"],[0.6666666666666666,\"#ed7953\"],[0.7777777777777778,\"#fb9f3a\"],[0.8888888888888888,\"#fdca26\"],[1.0,\"#f0f921\"]],\"type\":\"histogram2d\"}],\"histogram2dcontour\":[{\"colorbar\":{\"outlinewidth\":0,\"ticks\":\"\"},\"colorscale\":[[0.0,\"#0d0887\"],[0.1111111111111111,\"#46039f\"],[0.2222222222222222,\"#7201a8\"],[0.3333333333333333,\"#9c179e\"],[0.4444444444444444,\"#bd3786\"],[0.5555555555555556,\"#d8576b\"],[0.6666666666666666,\"#ed7953\"],[0.7777777777777778,\"#fb9f3a\"],[0.8888888888888888,\"#fdca26\"],[1.0,\"#f0f921\"]],\"type\":\"histogram2dcontour\"}],\"mesh3d\":[{\"colorbar\":{\"outlinewidth\":0,\"ticks\":\"\"},\"type\":\"mesh3d\"}],\"parcoords\":[{\"line\":{\"colorbar\":{\"outlinewidth\":0,\"ticks\":\"\"}},\"type\":\"parcoords\"}],\"pie\":[{\"automargin\":true,\"type\":\"pie\"}],\"scatter\":[{\"marker\":{\"colorbar\":{\"outlinewidth\":0,\"ticks\":\"\"}},\"type\":\"scatter\"}],\"scatter3d\":[{\"line\":{\"colorbar\":{\"outlinewidth\":0,\"ticks\":\"\"}},\"marker\":{\"colorbar\":{\"outlinewidth\":0,\"ticks\":\"\"}},\"type\":\"scatter3d\"}],\"scattercarpet\":[{\"marker\":{\"colorbar\":{\"outlinewidth\":0,\"ticks\":\"\"}},\"type\":\"scattercarpet\"}],\"scattergeo\":[{\"marker\":{\"colorbar\":{\"outlinewidth\":0,\"ticks\":\"\"}},\"type\":\"scattergeo\"}],\"scattergl\":[{\"marker\":{\"colorbar\":{\"outlinewidth\":0,\"ticks\":\"\"}},\"type\":\"scattergl\"}],\"scattermapbox\":[{\"marker\":{\"colorbar\":{\"outlinewidth\":0,\"ticks\":\"\"}},\"type\":\"scattermapbox\"}],\"scatterpolar\":[{\"marker\":{\"colorbar\":{\"outlinewidth\":0,\"ticks\":\"\"}},\"type\":\"scatterpolar\"}],\"scatterpolargl\":[{\"marker\":{\"colorbar\":{\"outlinewidth\":0,\"ticks\":\"\"}},\"type\":\"scatterpolargl\"}],\"scatterternary\":[{\"marker\":{\"colorbar\":{\"outlinewidth\":0,\"ticks\":\"\"}},\"type\":\"scatterternary\"}],\"surface\":[{\"colorbar\":{\"outlinewidth\":0,\"ticks\":\"\"},\"colorscale\":[[0.0,\"#0d0887\"],[0.1111111111111111,\"#46039f\"],[0.2222222222222222,\"#7201a8\"],[0.3333333333333333,\"#9c179e\"],[0.4444444444444444,\"#bd3786\"],[0.5555555555555556,\"#d8576b\"],[0.6666666666666666,\"#ed7953\"],[0.7777777777777778,\"#fb9f3a\"],[0.8888888888888888,\"#fdca26\"],[1.0,\"#f0f921\"]],\"type\":\"surface\"}],\"table\":[{\"cells\":{\"fill\":{\"color\":\"#EBF0F8\"},\"line\":{\"color\":\"white\"}},\"header\":{\"fill\":{\"color\":\"#C8D4E3\"},\"line\":{\"color\":\"white\"}},\"type\":\"table\"}]},\"layout\":{\"annotationdefaults\":{\"arrowcolor\":\"#2a3f5f\",\"arrowhead\":0,\"arrowwidth\":1},\"autotypenumbers\":\"strict\",\"coloraxis\":{\"colorbar\":{\"outlinewidth\":0,\"ticks\":\"\"}},\"colorscale\":{\"diverging\":[[0,\"#8e0152\"],[0.1,\"#c51b7d\"],[0.2,\"#de77ae\"],[0.3,\"#f1b6da\"],[0.4,\"#fde0ef\"],[0.5,\"#f7f7f7\"],[0.6,\"#e6f5d0\"],[0.7,\"#b8e186\"],[0.8,\"#7fbc41\"],[0.9,\"#4d9221\"],[1,\"#276419\"]],\"sequential\":[[0.0,\"#0d0887\"],[0.1111111111111111,\"#46039f\"],[0.2222222222222222,\"#7201a8\"],[0.3333333333333333,\"#9c179e\"],[0.4444444444444444,\"#bd3786\"],[0.5555555555555556,\"#d8576b\"],[0.6666666666666666,\"#ed7953\"],[0.7777777777777778,\"#fb9f3a\"],[0.8888888888888888,\"#fdca26\"],[1.0,\"#f0f921\"]],\"sequentialminus\":[[0.0,\"#0d0887\"],[0.1111111111111111,\"#46039f\"],[0.2222222222222222,\"#7201a8\"],[0.3333333333333333,\"#9c179e\"],[0.4444444444444444,\"#bd3786\"],[0.5555555555555556,\"#d8576b\"],[0.6666666666666666,\"#ed7953\"],[0.7777777777777778,\"#fb9f3a\"],[0.8888888888888888,\"#fdca26\"],[1.0,\"#f0f921\"]]},\"colorway\":[\"#636efa\",\"#EF553B\",\"#00cc96\",\"#ab63fa\",\"#FFA15A\",\"#19d3f3\",\"#FF6692\",\"#B6E880\",\"#FF97FF\",\"#FECB52\"],\"font\":{\"color\":\"#2a3f5f\"},\"geo\":{\"bgcolor\":\"white\",\"lakecolor\":\"white\",\"landcolor\":\"#E5ECF6\",\"showlakes\":true,\"showland\":true,\"subunitcolor\":\"white\"},\"hoverlabel\":{\"align\":\"left\"},\"hovermode\":\"closest\",\"mapbox\":{\"style\":\"light\"},\"paper_bgcolor\":\"white\",\"plot_bgcolor\":\"#E5ECF6\",\"polar\":{\"angularaxis\":{\"gridcolor\":\"white\",\"linecolor\":\"white\",\"ticks\":\"\"},\"bgcolor\":\"#E5ECF6\",\"radialaxis\":{\"gridcolor\":\"white\",\"linecolor\":\"white\",\"ticks\":\"\"}},\"scene\":{\"xaxis\":{\"backgroundcolor\":\"#E5ECF6\",\"gridcolor\":\"white\",\"gridwidth\":2,\"linecolor\":\"white\",\"showbackground\":true,\"ticks\":\"\",\"zerolinecolor\":\"white\"},\"yaxis\":{\"backgroundcolor\":\"#E5ECF6\",\"gridcolor\":\"white\",\"gridwidth\":2,\"linecolor\":\"white\",\"showbackground\":true,\"ticks\":\"\",\"zerolinecolor\":\"white\"},\"zaxis\":{\"backgroundcolor\":\"#E5ECF6\",\"gridcolor\":\"white\",\"gridwidth\":2,\"linecolor\":\"white\",\"showbackground\":true,\"ticks\":\"\",\"zerolinecolor\":\"white\"}},\"shapedefaults\":{\"line\":{\"color\":\"#2a3f5f\"}},\"ternary\":{\"aaxis\":{\"gridcolor\":\"white\",\"linecolor\":\"white\",\"ticks\":\"\"},\"baxis\":{\"gridcolor\":\"white\",\"linecolor\":\"white\",\"ticks\":\"\"},\"bgcolor\":\"#E5ECF6\",\"caxis\":{\"gridcolor\":\"white\",\"linecolor\":\"white\",\"ticks\":\"\"}},\"title\":{\"x\":0.05},\"xaxis\":{\"automargin\":true,\"gridcolor\":\"white\",\"linecolor\":\"white\",\"ticks\":\"\",\"title\":{\"standoff\":15},\"zerolinecolor\":\"white\",\"zerolinewidth\":2},\"yaxis\":{\"automargin\":true,\"gridcolor\":\"white\",\"linecolor\":\"white\",\"ticks\":\"\",\"title\":{\"standoff\":15},\"zerolinecolor\":\"white\",\"zerolinewidth\":2}}},\"title\":{\"text\":\"Tesla Stock Price\"},\"yaxis\":{\"title\":{\"text\":\"Stock price\"}}},                        {\"responsive\": true}                    ).then(function(){\n",
       "                            \n",
       "var gd = document.getElementById('c87e186f-a591-4fa7-86fb-d881019b98b7');\n",
       "var x = new MutationObserver(function (mutations, observer) {{\n",
       "        var display = window.getComputedStyle(gd).display;\n",
       "        if (!display || display === 'none') {{\n",
       "            console.log([gd, 'removed!']);\n",
       "            Plotly.purge(gd);\n",
       "            observer.disconnect();\n",
       "        }}\n",
       "}});\n",
       "\n",
       "// Listen for the removal of the full notebook cells\n",
       "var notebookContainer = gd.closest('#notebook-container');\n",
       "if (notebookContainer) {{\n",
       "    x.observe(notebookContainer, {childList: true});\n",
       "}}\n",
       "\n",
       "// Listen for the clearing of the current output cell\n",
       "var outputEl = gd.closest('.output');\n",
       "if (outputEl) {{\n",
       "    x.observe(outputEl, {childList: true});\n",
       "}}\n",
       "\n",
       "                        })                };                });            </script>        </div>"
      ]
     },
     "metadata": {},
     "output_type": "display_data"
    }
   ],
   "source": [
    "tsla_chart = go.Candlestick(x=df.index,open = df[('TSLA','Open')],high = df[('TSLA','High')],low = df[('TSLA','Low')],close = df[('TSLA','Close')])\n",
    "tsla_fig = go.Figure(data=[tsla_chart])\n",
    "tsla_fig.update_layout(\n",
    "    title='Tesla Stock Price',\n",
    "    yaxis_title='Stock price')\n",
    "tsla_fig.show()"
   ]
  },
  {
   "cell_type": "markdown",
   "id": "1c0004a7",
   "metadata": {},
   "source": [
    "# Stock Trading Analysis for Week 1\n",
    "\n",
    "## Trading Type\n",
    "\n",
    "Derivitatives: Option Contracts\n",
    "\n",
    "## Stock Symbols\n",
    "\n",
    "1. SPY - SP 500 ETF\n",
    "\n",
    "2. AMZN - AMAZON\n",
    "\n",
    "3. TSLA - TESLA\n",
    "\n",
    "## Options Traded\n",
    "\n",
    "| Date | Symbol | Type | QTY | Price Bought | Price Sold | P/L |\n",
    "| ---- | ---- | ---- | ---- | ---- | ---- | ---- |\n",
    "| 11/19/2021 | TSLA2119W1135 | PUT | 20 | 7.00 | 3.65 | -6,700.00 |\n",
    "| 11/19/2021 | SPY2119K470 | CALL | 20 | 0.25 | 0.10 | -300.00 |\n",
    "| 11/19/2021 | AMZN2119K3700 | CALL | 1 | 225.00 | Expired Worthless | -225.00 |\n",
    "\n",
    "Total P/L: -$7,225.00 \n",
    "\n",
    "\n",
    "## ANALYSIS\n",
    "\n",
    "*This kind of trading is considered very VERY VERY risky*\n",
    "\n",
    "### Thought Process\n",
    "\n",
    "I've been trading options contracts for about two years now and I have see the most imposible returns while having the entire investment wipe out to zero or expire worthless. Options contract become practically worthless as they are about to expire. There are multiple factors that take place with option contracts. Within this specific situation we will be focusing on two of the Greek values for these contracts which are Delta and Theta. \n",
    "\n",
    "**Delta:** this value is what indicates how much the option contract would move up in premium or price depending on the stocks price movement up or down for every dollar. Delta's values range from 0.01-1.00.\n",
    "\n",
    "**Theta:** this value is what indiciates how much the option contract would lose value of every day. It is also considered as a decaying aspect. Theta's values range from 0.01 - (option price). The value of theta starts to become exponential closer to the option price as the contract nears expiration. \n",
    "\n",
    "So how does my strategy and analysis work in this situation. Within the last hour of the trading day of the option contract, the premium per contract is considered very cheap if it is right out of the money. Mean the price of the stock is above the stike price of the contract. The way my strategy works is that within the last hour of the trading day, I would look for stocks that are either considered oversold or overbought within the last hour and buy the option contract hoping for the movement of price in the oppisite direction. If the stock was oversold, I would buy a Call Option (meaning a bullish settiment, or stock price going up) or if the stock was being overbought I would buy a PUT option (meaning a bearish settiment, or stock price going down). Once the contract is bought I would not be holding the contract for more than 10 minutes. \n",
    "\n",
    "I would use an indicator called Relative Strenght Index to figure out if the stock price was oversold or overbought. The way the indicator is calculated is by finding the avgerage price lost and average price gained within a number of price points. I had used 14 price points. Once the average prices lost and gained are found, an equation is used: 100 - [100 / (1 + avg_gain/avg_loss)]. Overbought is considered any value over 70 and oversold is considered any value under 30. \n",
    "\n",
    "**DISCLAIMER**\n",
    "\n",
    "I had noticed that the prices on investopedia was 15 minutes behind to what was actually happening live. \n",
    "\n",
    "### Decision for my Trades\n",
    "\n",
    "TSLA: At about 11:50 am on 11/19/21 the RSI for TSLA was at about 85. This is considered to be very high and very overbought. Even though it was not within the time of 12:00pm - 1:00pm. This couldnt be a missed oppurtunity. I placed a buy order for Tesla Put Option Contract for 11/19/21 for a strike of $1135.00. It was write live that the option contract ASKING price was 3.50 however for some reason on investopedia it was written 7.00. For the sake of the assignment I had placed the order. Tesla was trading at about 1138.78 the moment I would have bought the contract. I watched the price of TSLA drop about $8.00 and the price of my contract would have been about $8.10 however, investopedia sold it for $3.50\n",
    "\n",
    "SPY: At around 12:00 pm the RSI for SPY was about 41. It was considered mildly oversold. So it was a decision that I would buy a CALL option that expires 11/19/2021 at the strike of $470.  I placed the buy order for the contract for about 0.25. The stock however started moving downwards. While the RSI indicator start to bounce around 30-45. I sold the contracts for a loss for 0.10 each\n",
    "\n",
    "AMZN: At about 12:30 pm the RSI for AMZN was about 29. It was considered oversold. The price of the stock was $3677.25. I had decided to buy a CALL option for the expiration of 11/19/2021 for the stike of $3700.00. I had placed the order and bought the contract for about 225.00. The stock started to rise in price for about 5 minutes. I had decided to sell the option for a profit, however investopedia was not working and I couldnt set the right price to sell the contract. Therefore it had expire worthless. In theory if not using investopedia, I would have profited.\n",
    "\n",
    "### Conclusion\n",
    "\n",
    "**Analysis:** In theory this trading strategy would have profited about $6215.00. The reason I say is becuase I took screen shots of the actual prices on another trading platform and timed the prices of the contracts to when I would have bought and sold. I had learned trading today on the simulator that the timing of the stock prices and the option prices do not accuratly corrilate for this type of speed trading or scalping. I have to consider other kinds of trading analysis that would take over the time of multiple days.\n"
   ]
  },
  {
   "cell_type": "code",
   "execution_count": null,
   "id": "d4715c7c",
   "metadata": {},
   "outputs": [],
   "source": []
  }
 ],
 "metadata": {
  "kernelspec": {
   "display_name": "Python 3",
   "language": "python",
   "name": "python3"
  },
  "language_info": {
   "codemirror_mode": {
    "name": "ipython",
    "version": 3
   },
   "file_extension": ".py",
   "mimetype": "text/x-python",
   "name": "python",
   "nbconvert_exporter": "python",
   "pygments_lexer": "ipython3",
   "version": "3.8.8"
  }
 },
 "nbformat": 4,
 "nbformat_minor": 5
}
